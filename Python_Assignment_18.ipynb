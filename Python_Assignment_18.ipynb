{
 "cells": [
  {
   "cell_type": "markdown",
   "id": "81e79446",
   "metadata": {},
   "source": [
    "Question:1"
   ]
  },
  {
   "cell_type": "code",
   "execution_count": 3,
   "id": "ff64308f",
   "metadata": {},
   "outputs": [
    {
     "name": "stdout",
     "output_type": "stream",
     "text": [
      "[1, 2]\n"
     ]
    }
   ],
   "source": [
    "def filter_list(l):\n",
    "    r = []\n",
    "    for i in l:\n",
    "        if str(i).isdigit():\n",
    "            r.append(i)\n",
    "    return r\n",
    "print(filter_list([1,2,'a','b']))"
   ]
  },
  {
   "cell_type": "markdown",
   "id": "6de6a4d7",
   "metadata": {},
   "source": [
    "Question: 2"
   ]
  },
  {
   "cell_type": "code",
   "execution_count": 1,
   "id": "d2fd616a",
   "metadata": {},
   "outputs": [
    {
     "name": "stdout",
     "output_type": "stream",
     "text": [
      "DLROw OLLEh\n"
     ]
    }
   ],
   "source": [
    "def reverse(sentence):\n",
    "    sentence = sentence[::-1]\n",
    "    r = ''\n",
    "    for i in sentence:\n",
    "        if i.islower():\n",
    "            r += i.upper()\n",
    "        else:\n",
    "            r += i.lower()\n",
    "            \n",
    "    return r\n",
    "print(reverse('Hello World'))"
   ]
  },
  {
   "cell_type": "markdown",
   "id": "eb9741be",
   "metadata": {},
   "source": [
    "Question: 3"
   ]
  },
  {
   "cell_type": "code",
   "execution_count": 2,
   "id": "c69c4c40",
   "metadata": {},
   "outputs": [
    {
     "name": "stdout",
     "output_type": "stream",
     "text": [
      "1\n",
      "[2, 3, 4, 5]\n",
      "6\n"
     ]
    }
   ],
   "source": [
    "lst = [1,2,3,4,5,6]\n",
    "first, *middle, last = lst\n",
    "print(first)\n",
    "print(middle)\n",
    "print(last)"
   ]
  },
  {
   "cell_type": "markdown",
   "id": "fbc4cc50",
   "metadata": {},
   "source": [
    "Question: 4"
   ]
  },
  {
   "cell_type": "code",
   "execution_count": 3,
   "id": "f116679c",
   "metadata": {},
   "outputs": [
    {
     "name": "stdout",
     "output_type": "stream",
     "text": [
      "720\n"
     ]
    }
   ],
   "source": [
    "def factorial(n):\n",
    "    if n == 1:\n",
    "        return 1\n",
    "    return n*factorial(n-1)\n",
    "print(factorial(6))"
   ]
  },
  {
   "cell_type": "markdown",
   "id": "dd58ed7a",
   "metadata": {},
   "source": [
    "Question:5"
   ]
  },
  {
   "cell_type": "code",
   "execution_count": 2,
   "id": "2f928879",
   "metadata": {},
   "outputs": [
    {
     "name": "stdout",
     "output_type": "stream",
     "text": [
      "['b', 'a', 'a', 'a']\n"
     ]
    }
   ],
   "source": [
    "def move_to_end(a,b):\n",
    "    count = a.count(b)\n",
    "    for i in range(count):\n",
    "        a.remove(b)\n",
    "        a.append(b)\n",
    "    return a\n",
    "print(move_to_end(['a','a','a','b'],'a'))"
   ]
  },
  {
   "cell_type": "code",
   "execution_count": null,
   "id": "d0423e8a",
   "metadata": {},
   "outputs": [],
   "source": []
  }
 ],
 "metadata": {
  "kernelspec": {
   "display_name": "Python 3 (ipykernel)",
   "language": "python",
   "name": "python3"
  },
  "language_info": {
   "codemirror_mode": {
    "name": "ipython",
    "version": 3
   },
   "file_extension": ".py",
   "mimetype": "text/x-python",
   "name": "python",
   "nbconvert_exporter": "python",
   "pygments_lexer": "ipython3",
   "version": "3.9.13"
  }
 },
 "nbformat": 4,
 "nbformat_minor": 5
}
