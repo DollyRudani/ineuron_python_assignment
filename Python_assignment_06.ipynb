{
 "cells": [
  {
   "cell_type": "markdown",
   "id": "87c93a19",
   "metadata": {},
   "source": [
    "1. Write a python program to display Fibonacci sequence using Recursion?"
   ]
  },
  {
   "cell_type": "code",
   "execution_count": 7,
   "id": "63c3a0a4",
   "metadata": {},
   "outputs": [
    {
     "name": "stdout",
     "output_type": "stream",
     "text": [
      "enter a num: 10\n",
      "0\n",
      "1\n",
      "1\n",
      "2\n",
      "3\n",
      "5\n",
      "8\n",
      "13\n",
      "21\n",
      "34\n"
     ]
    }
   ],
   "source": [
    "def fibo_rec(n):\n",
    "    if n <= 1:\n",
    "        return n\n",
    "    else:\n",
    "        return fibo_rec(n-1) + fibo_rec(n-2)\n",
    "    \n",
    "n = int(input(\"enter a num: \"))\n",
    "\n",
    "if n<1:\n",
    "    print('invalid input ')\n",
    "else:\n",
    "    for i in range(n):\n",
    "        print(fibo_rec(i))"
   ]
  },
  {
   "cell_type": "markdown",
   "id": "e76249c4",
   "metadata": {},
   "source": [
    "2. write a python program to find Factorial of number using recursion?"
   ]
  },
  {
   "cell_type": "code",
   "execution_count": 21,
   "id": "7853cb1b",
   "metadata": {},
   "outputs": [
    {
     "name": "stdout",
     "output_type": "stream",
     "text": [
      "enter a number: 10\n",
      "3628800\n"
     ]
    }
   ],
   "source": [
    "n = int(input('enter a number: '))\n",
    "def rec_n(n):\n",
    "    if n == 1:\n",
    "        return 1\n",
    "    else:\n",
    "        return n*rec_n(n-1)\n",
    "    \n",
    "print(rec_n(n))\n",
    "        \n",
    "    "
   ]
  },
  {
   "cell_type": "markdown",
   "id": "15208b11",
   "metadata": {},
   "source": [
    "3. Write a python program to calculate your body mass index?"
   ]
  },
  {
   "cell_type": "code",
   "execution_count": 25,
   "id": "d3be1cbc",
   "metadata": {},
   "outputs": [
    {
     "name": "stdout",
     "output_type": "stream",
     "text": [
      "enter your height in meter: 1.58\n",
      "enter your weight in kg: 40\n",
      "your BMI is 16.023073225444637\n"
     ]
    }
   ],
   "source": [
    "h = float(input(\"enter your height in meter: \"))\n",
    "w = int(input(\"enter your weight in kg: \"))\n",
    "\n",
    "print(f\"your BMI is {w/h**2}\")\n"
   ]
  },
  {
   "cell_type": "markdown",
   "id": "21ec7850",
   "metadata": {},
   "source": [
    "4. write a python program to calculate the natural logarithem of any number ?"
   ]
  },
  {
   "cell_type": "code",
   "execution_count": 29,
   "id": "6aef7a96",
   "metadata": {},
   "outputs": [
    {
     "name": "stdout",
     "output_type": "stream",
     "text": [
      "enter a num: 8\n",
      "2.0794415416798357\n"
     ]
    }
   ],
   "source": [
    "import math\n",
    "n = int(input(\"enter a num: \"))\n",
    "print(math.log(n))"
   ]
  },
  {
   "cell_type": "markdown",
   "id": "6a502c1b",
   "metadata": {},
   "source": [
    "5. Write a python program for cube sum of first n natural numbers?"
   ]
  },
  {
   "cell_type": "code",
   "execution_count": 36,
   "id": "d14627d2",
   "metadata": {},
   "outputs": [
    {
     "name": "stdout",
     "output_type": "stream",
     "text": [
      "enter a num: 7\n",
      "784\n"
     ]
    }
   ],
   "source": [
    "n = int(input('enter a num: '))\n",
    "s = 0\n",
    "for i in range(1,n+1):\n",
    "    p = i**3\n",
    "    s += p\n",
    "print(s)"
   ]
  },
  {
   "cell_type": "code",
   "execution_count": null,
   "id": "d9f3ac89",
   "metadata": {},
   "outputs": [],
   "source": []
  }
 ],
 "metadata": {
  "kernelspec": {
   "display_name": "Python 3 (ipykernel)",
   "language": "python",
   "name": "python3"
  },
  "language_info": {
   "codemirror_mode": {
    "name": "ipython",
    "version": 3
   },
   "file_extension": ".py",
   "mimetype": "text/x-python",
   "name": "python",
   "nbconvert_exporter": "python",
   "pygments_lexer": "ipython3",
   "version": "3.9.13"
  }
 },
 "nbformat": 4,
 "nbformat_minor": 5
}
