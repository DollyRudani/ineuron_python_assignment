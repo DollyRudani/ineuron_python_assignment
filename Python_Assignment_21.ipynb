{
 "cells": [
  {
   "cell_type": "markdown",
   "id": "546b9086",
   "metadata": {},
   "source": [
    "Question: 1"
   ]
  },
  {
   "cell_type": "code",
   "execution_count": 2,
   "id": "697187b8",
   "metadata": {},
   "outputs": [
    {
     "name": "stdout",
     "output_type": "stream",
     "text": [
      "[10, 20, 42, 6]\n"
     ]
    }
   ],
   "source": [
    "def next_in_line(lst,n):\n",
    "    if len(lst) != 0:\n",
    "        return lst[1:]+[n]\n",
    "    else:\n",
    "        return 'No list has been selected'\n",
    "print(next_in_line([1,10,20,42],6))"
   ]
  },
  {
   "cell_type": "markdown",
   "id": "cd85a5d1",
   "metadata": {},
   "source": [
    "Question: 2"
   ]
  },
  {
   "cell_type": "code",
   "execution_count": 5,
   "id": "8ed66a41",
   "metadata": {},
   "outputs": [
    {
     "name": "stdout",
     "output_type": "stream",
     "text": [
      "65700\n"
     ]
    }
   ],
   "source": [
    "def get_budget(l):\n",
    "    t = 0\n",
    "    for i in l:\n",
    "        t += i['budget']\n",
    "    return t\n",
    "print(get_budget([{ \"name\": \"John\", \"age\": 21, \"budget\": 23000 },{ \"name\": \"Steve\",  \"age\": 32, \"budget\": 40000 },{ \"name\": \"Martin\",  \"age\": 16, \"budget\": 2700 }]))"
   ]
  },
  {
   "cell_type": "markdown",
   "id": "b226f749",
   "metadata": {},
   "source": [
    "Question: 3"
   ]
  },
  {
   "cell_type": "code",
   "execution_count": 6,
   "id": "2f816b65",
   "metadata": {},
   "outputs": [
    {
     "name": "stdout",
     "output_type": "stream",
     "text": [
      "ehllo\n"
     ]
    }
   ],
   "source": [
    "def alphabet_soup(l):\n",
    "    return \"\".join(sorted(l))\n",
    "print(alphabet_soup('hello'))    "
   ]
  },
  {
   "cell_type": "markdown",
   "id": "ddcde681",
   "metadata": {},
   "source": [
    "Question: 4"
   ]
  },
  {
   "cell_type": "code",
   "execution_count": 1,
   "id": "e18e9a37",
   "metadata": {},
   "outputs": [
    {
     "name": "stdout",
     "output_type": "stream",
     "text": [
      "15399.26\n"
     ]
    }
   ],
   "source": [
    "def compound_interest(p,t,r,n):\n",
    "    return round(p*((1+(r/n))**(n*t)),2)\n",
    "\n",
    "print(compound_interest(3500,15,0.1,4))"
   ]
  },
  {
   "cell_type": "markdown",
   "id": "6ea8e61d",
   "metadata": {},
   "source": [
    "Question: 5"
   ]
  },
  {
   "cell_type": "code",
   "execution_count": 8,
   "id": "2e86d19a",
   "metadata": {},
   "outputs": [
    {
     "name": "stdout",
     "output_type": "stream",
     "text": [
      "[9, 2, 16]\n"
     ]
    }
   ],
   "source": [
    "def filter_fun(l):\n",
    "    r = []\n",
    "    for i in l:\n",
    "        if str(i).isdigit():\n",
    "            r.append(i)\n",
    "    return r\n",
    "print(filter_fun([9, 2, \"space\", \"car\", \"lion\", 16]))"
   ]
  },
  {
   "cell_type": "code",
   "execution_count": null,
   "id": "a7dc8a07",
   "metadata": {},
   "outputs": [],
   "source": []
  }
 ],
 "metadata": {
  "kernelspec": {
   "display_name": "Python 3 (ipykernel)",
   "language": "python",
   "name": "python3"
  },
  "language_info": {
   "codemirror_mode": {
    "name": "ipython",
    "version": 3
   },
   "file_extension": ".py",
   "mimetype": "text/x-python",
   "name": "python",
   "nbconvert_exporter": "python",
   "pygments_lexer": "ipython3",
   "version": "3.9.13"
  }
 },
 "nbformat": 4,
 "nbformat_minor": 5
}
