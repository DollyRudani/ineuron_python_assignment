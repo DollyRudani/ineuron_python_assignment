{
 "cells": [
  {
   "cell_type": "markdown",
   "id": "34762757",
   "metadata": {},
   "source": [
    "Question: 1"
   ]
  },
  {
   "cell_type": "code",
   "execution_count": 4,
   "id": "71909e5b",
   "metadata": {},
   "outputs": [
    {
     "name": "stdout",
     "output_type": "stream",
     "text": [
      "enter the words: outstanding\n",
      "ou...ou...outstanding?\n"
     ]
    }
   ],
   "source": [
    "word = input('enter the words: ')\n",
    "print(word[:2]+'...'+word[:2]+'...'+word+'?')"
   ]
  },
  {
   "cell_type": "markdown",
   "id": "a7e8af2f",
   "metadata": {},
   "source": [
    "Question: 2"
   ]
  },
  {
   "cell_type": "code",
   "execution_count": 11,
   "id": "090ea937",
   "metadata": {},
   "outputs": [
    {
     "name": "stdout",
     "output_type": "stream",
     "text": [
      "1145.9\n"
     ]
    }
   ],
   "source": [
    "import math\n",
    "\n",
    "def radians_to_degrees(radian):\n",
    "    degree = radian * 180/math.pi\n",
    "    return round(degree,1)\n",
    "print(radians_to_degrees(20))"
   ]
  },
  {
   "cell_type": "markdown",
   "id": "51747315",
   "metadata": {},
   "source": [
    "Question: 3"
   ]
  },
  {
   "cell_type": "code",
   "execution_count": 12,
   "id": "249c462c",
   "metadata": {},
   "outputs": [
    {
     "name": "stdout",
     "output_type": "stream",
     "text": [
      "False\n"
     ]
    }
   ],
   "source": [
    "def is_curzon(num):\n",
    "    x = 2**num + 1\n",
    "    y = 2*num + 1\n",
    "    return x%y == 0\n",
    "print(is_curzon(10))"
   ]
  },
  {
   "cell_type": "markdown",
   "id": "ae59c3c7",
   "metadata": {},
   "source": [
    "Question: 4"
   ]
  },
  {
   "cell_type": "code",
   "execution_count": 17,
   "id": "28bc94a7",
   "metadata": {},
   "outputs": [
    {
     "name": "stdout",
     "output_type": "stream",
     "text": [
      "10.4\n"
     ]
    }
   ],
   "source": [
    "def area_of_hexagon(s):\n",
    "    return round(3*(3**0.5)*(s**2)/2,1)\n",
    "print(area_of_hexagon(2))"
   ]
  },
  {
   "cell_type": "markdown",
   "id": "1381a34d",
   "metadata": {},
   "source": [
    "Question: 5"
   ]
  },
  {
   "cell_type": "code",
   "execution_count": 1,
   "id": "e82c7962",
   "metadata": {},
   "outputs": [
    {
     "name": "stdout",
     "output_type": "stream",
     "text": [
      "101\n"
     ]
    }
   ],
   "source": [
    "def binary(decimal):\n",
    "    binary = ''\n",
    "    while decimal > 0:\n",
    "        binary += str(decimal % 2)\n",
    "        decimal //= 2\n",
    "    return binary\n",
    "\n",
    "print(binary(5))"
   ]
  },
  {
   "cell_type": "code",
   "execution_count": null,
   "id": "35eb195b",
   "metadata": {},
   "outputs": [],
   "source": []
  }
 ],
 "metadata": {
  "kernelspec": {
   "display_name": "Python 3 (ipykernel)",
   "language": "python",
   "name": "python3"
  },
  "language_info": {
   "codemirror_mode": {
    "name": "ipython",
    "version": 3
   },
   "file_extension": ".py",
   "mimetype": "text/x-python",
   "name": "python",
   "nbconvert_exporter": "python",
   "pygments_lexer": "ipython3",
   "version": "3.9.13"
  }
 },
 "nbformat": 4,
 "nbformat_minor": 5
}
