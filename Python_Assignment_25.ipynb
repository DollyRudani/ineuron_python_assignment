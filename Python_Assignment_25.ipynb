{
 "cells": [
  {
   "cell_type": "markdown",
   "id": "558583ce",
   "metadata": {},
   "source": [
    "Question: 1"
   ]
  },
  {
   "cell_type": "code",
   "execution_count": 1,
   "id": "aa93e295",
   "metadata": {},
   "outputs": [
    {
     "name": "stdout",
     "output_type": "stream",
     "text": [
      "2\n"
     ]
    }
   ],
   "source": [
    "def equal(a,b,c):\n",
    "    if a == b == c:\n",
    "        return 3\n",
    "    elif a == b or b == c or a == c:\n",
    "        return 2\n",
    "    else:\n",
    "        return 3\n",
    "    \n",
    "print(equal(3,4,3))"
   ]
  },
  {
   "cell_type": "markdown",
   "id": "a9ece1a0",
   "metadata": {},
   "source": [
    "Question: 2"
   ]
  },
  {
   "cell_type": "code",
   "execution_count": 4,
   "id": "5003b6b7",
   "metadata": {},
   "outputs": [
    {
     "name": "stdout",
     "output_type": "stream",
     "text": [
      "[('B', 2), ('C', 3), ('D', 1)]\n"
     ]
    }
   ],
   "source": [
    "def dict_to_list(dict):\n",
    "    keys = sorted([key for key in dict.keys()])\n",
    "    return [(key,dict[key])for key in keys]\n",
    "print(dict_to_list({\"D\": 1,\"B\": 2,\"C\": 3}))"
   ]
  },
  {
   "cell_type": "markdown",
   "id": "1ee53852",
   "metadata": {},
   "source": [
    "Question: 3"
   ]
  },
  {
   "cell_type": "code",
   "execution_count": 5,
   "id": "a10a163e",
   "metadata": {},
   "outputs": [
    {
     "name": "stdout",
     "output_type": "stream",
     "text": [
      "{'p': 'P', 's': 'S'}\n"
     ]
    }
   ],
   "source": [
    "def mapping(l):\n",
    "    d = {}\n",
    "    for i in l:\n",
    "        d[i] = i.upper()\n",
    "    return d\n",
    "print(mapping(['p','s']))"
   ]
  },
  {
   "cell_type": "markdown",
   "id": "3d4064bc",
   "metadata": {},
   "source": [
    "Question: 4"
   ]
  },
  {
   "cell_type": "code",
   "execution_count": 6,
   "id": "6e8ccc0a",
   "metadata": {},
   "outputs": [
    {
     "name": "stdout",
     "output_type": "stream",
     "text": [
      "chooso cossorolo\n"
     ]
    }
   ],
   "source": [
    "def vow_replace(word, vow):\n",
    "    for i in word:\n",
    "        if i in 'aeiou':\n",
    "            word = word.replace(i,vow)\n",
    "    return word\n",
    "print(vow_replace('cheese casserole','o'))"
   ]
  },
  {
   "cell_type": "markdown",
   "id": "fbc3bf0d",
   "metadata": {},
   "source": [
    "Question: 5"
   ]
  },
  {
   "cell_type": "code",
   "execution_count": 7,
   "id": "046012f3",
   "metadata": {},
   "outputs": [
    {
     "name": "stdout",
     "output_type": "stream",
     "text": [
      "THe LiTTLe meRmaiD\n"
     ]
    }
   ],
   "source": [
    "def ascii_capitalize(s):\n",
    "    result = ''\n",
    "    for i in s:\n",
    "        if ord(i)%2 == 0:\n",
    "            result += i.upper()\n",
    "        else:\n",
    "            result += i.lower()\n",
    "    return result\n",
    "\n",
    "print(ascii_capitalize(\"THE LITTLE MERMAID\"))\n",
    "    "
   ]
  },
  {
   "cell_type": "code",
   "execution_count": null,
   "id": "cc2c2dd2",
   "metadata": {},
   "outputs": [],
   "source": []
  }
 ],
 "metadata": {
  "kernelspec": {
   "display_name": "Python 3 (ipykernel)",
   "language": "python",
   "name": "python3"
  },
  "language_info": {
   "codemirror_mode": {
    "name": "ipython",
    "version": 3
   },
   "file_extension": ".py",
   "mimetype": "text/x-python",
   "name": "python",
   "nbconvert_exporter": "python",
   "pygments_lexer": "ipython3",
   "version": "3.9.13"
  }
 },
 "nbformat": 4,
 "nbformat_minor": 5
}
