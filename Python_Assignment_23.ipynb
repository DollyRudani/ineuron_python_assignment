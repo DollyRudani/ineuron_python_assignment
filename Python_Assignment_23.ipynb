{
 "cells": [
  {
   "cell_type": "markdown",
   "id": "63068b4f",
   "metadata": {},
   "source": [
    "Question: 1"
   ]
  },
  {
   "cell_type": "code",
   "execution_count": 1,
   "id": "a18d424e",
   "metadata": {},
   "outputs": [
    {
     "name": "stdout",
     "output_type": "stream",
     "text": [
      "True\n"
     ]
    }
   ],
   "source": [
    "def is_symmetrical(n):\n",
    "    n = str(n)\n",
    "    return n == n[::-1]\n",
    "\n",
    "print(is_symmetrical(7227))"
   ]
  },
  {
   "cell_type": "markdown",
   "id": "91baa7a4",
   "metadata": {},
   "source": [
    "Question: 2"
   ]
  },
  {
   "cell_type": "code",
   "execution_count": 5,
   "id": "25e4c5b6",
   "metadata": {},
   "outputs": [
    {
     "name": "stdout",
     "output_type": "stream",
     "text": [
      "24\n"
     ]
    }
   ],
   "source": [
    "def multiply_num(n):\n",
    "    t = 1\n",
    "    l = []\n",
    "    for i in n:\n",
    "        t *= i\n",
    "    return t\n",
    "print(multiply_num([1,2,3,4]))\n",
    "        "
   ]
  },
  {
   "cell_type": "markdown",
   "id": "4c336de8",
   "metadata": {},
   "source": [
    "Question: 3"
   ]
  },
  {
   "cell_type": "code",
   "execution_count": 6,
   "id": "eafa70dd",
   "metadata": {},
   "outputs": [
    {
     "name": "stdout",
     "output_type": "stream",
     "text": [
      "811181\n"
     ]
    }
   ],
   "source": [
    "def square_digit(n):\n",
    "    n = str(n)\n",
    "    result = ''\n",
    "    for i in n:\n",
    "        result += str(int(i)**2)\n",
    "    return result\n",
    "print(square_digit(9119))"
   ]
  },
  {
   "cell_type": "markdown",
   "id": "493ceb5a",
   "metadata": {},
   "source": [
    "Question: 4"
   ]
  },
  {
   "cell_type": "code",
   "execution_count": 7,
   "id": "d24d8ccc",
   "metadata": {},
   "outputs": [
    {
     "name": "stdout",
     "output_type": "stream",
     "text": [
      "[1, 3, 5]\n"
     ]
    }
   ],
   "source": [
    "def remove_duplicate(l):\n",
    "    l = list(set(l))\n",
    "    l.sort()\n",
    "    return l\n",
    "print(remove_duplicate([1,3,3,5,5]))"
   ]
  },
  {
   "cell_type": "markdown",
   "id": "ef1f45f3",
   "metadata": {},
   "source": [
    "Question: 5"
   ]
  },
  {
   "cell_type": "code",
   "execution_count": 10,
   "id": "8a3cd4e4",
   "metadata": {},
   "outputs": [
    {
     "name": "stdout",
     "output_type": "stream",
     "text": [
      "3\n"
     ]
    }
   ],
   "source": [
    "def mean(n):\n",
    "    n = str(n)\n",
    "    s = 0\n",
    "    for i in n:\n",
    "        s += int(i)\n",
    "    return s//len(n)\n",
    "print(mean(42))\n",
    "        "
   ]
  },
  {
   "cell_type": "code",
   "execution_count": null,
   "id": "c5f1f3a7",
   "metadata": {},
   "outputs": [],
   "source": []
  }
 ],
 "metadata": {
  "kernelspec": {
   "display_name": "Python 3 (ipykernel)",
   "language": "python",
   "name": "python3"
  },
  "language_info": {
   "codemirror_mode": {
    "name": "ipython",
    "version": 3
   },
   "file_extension": ".py",
   "mimetype": "text/x-python",
   "name": "python",
   "nbconvert_exporter": "python",
   "pygments_lexer": "ipython3",
   "version": "3.9.13"
  }
 },
 "nbformat": 4,
 "nbformat_minor": 5
}
