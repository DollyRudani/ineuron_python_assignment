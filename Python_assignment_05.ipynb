{
 "cells": [
  {
   "cell_type": "markdown",
   "id": "12299bc0",
   "metadata": {},
   "source": [
    "1.\tWrite a Python Program to Find LCM?"
   ]
  },
  {
   "cell_type": "code",
   "execution_count": 7,
   "id": "82f50e70",
   "metadata": {},
   "outputs": [
    {
     "name": "stdout",
     "output_type": "stream",
     "text": [
      "enter a num: 12\n",
      "entera num: 30\n",
      "lcm of number is 60\n"
     ]
    }
   ],
   "source": [
    "a = int(input('enter a num: '))\n",
    "b = int(input('entera num: '))\n",
    "\n",
    "for i in range(1,a*b + 1):\n",
    "    if i%a == 0 and i%b == 0:\n",
    "        print(\"lcm of number is\", i)\n",
    "        break\n"
   ]
  },
  {
   "cell_type": "markdown",
   "id": "eb54db0a",
   "metadata": {},
   "source": [
    "2. write a python program to find HFC?"
   ]
  },
  {
   "cell_type": "code",
   "execution_count": 26,
   "id": "c33f23d5",
   "metadata": {},
   "outputs": [
    {
     "name": "stdout",
     "output_type": "stream",
     "text": [
      "enter a num: 40\n",
      "enter a num: 50\n",
      "hcm of number is 10\n"
     ]
    }
   ],
   "source": [
    "a = int(input('enter a num: '))\n",
    "b = int(input(\"enter a num: \"))\n",
    "\n",
    "\n",
    "for i in range(1,min(a,b)):\n",
    "    if a%i == 0 and b%i == 0:\n",
    "        print(f\"hcm of number is {maximum}\")\n",
    "        break\n",
    "        \n",
    "        "
   ]
  },
  {
   "cell_type": "markdown",
   "id": "3774312e",
   "metadata": {},
   "source": [
    "3. Write a python program to convert Decimal to Binary, Octal and Hexadecimal?"
   ]
  },
  {
   "cell_type": "code",
   "execution_count": 31,
   "id": "e903d083",
   "metadata": {},
   "outputs": [
    {
     "name": "stdout",
     "output_type": "stream",
     "text": [
      "enter a decimal num: 50\n",
      "binary =  110010\n",
      "octal =  62\n",
      "hexadecimal =  32\n"
     ]
    }
   ],
   "source": [
    "main_number = int(input('enter a decimal num: '))\n",
    "\n",
    "number = main_number\n",
    "binary = ''\n",
    "while number > 0:\n",
    "    binary = str(number % 2) + binary\n",
    "    number //= 2\n",
    "print('binary = ',binary)\n",
    "\n",
    "number = main_number \n",
    "octal = ''\n",
    "while number > 0:\n",
    "    octal = str(number % 8) + octal\n",
    "    number //= 8\n",
    "print('octal = ',octal)\n",
    "\n",
    "number = main_number\n",
    "hexa = ''\n",
    "while number > 0:\n",
    "    hexa = str(number % 16) + hexa\n",
    "    number //= 16\n",
    "print('hexadecimal = ',hexa)"
   ]
  },
  {
   "cell_type": "markdown",
   "id": "a5cbbcf8",
   "metadata": {},
   "source": [
    "4. write a python program to find ASCII value of a character?"
   ]
  },
  {
   "cell_type": "code",
   "execution_count": 4,
   "id": "7aba24c2",
   "metadata": {},
   "outputs": [
    {
     "name": "stdout",
     "output_type": "stream",
     "text": [
      "enter character: s\n",
      "115\n"
     ]
    }
   ],
   "source": [
    "char = input(\"enter character: \")\n",
    "print(ord(char))"
   ]
  },
  {
   "cell_type": "markdown",
   "id": "7be4931c",
   "metadata": {},
   "source": [
    "5. write a python program to make a simple calculator with 4 basic mathamatical oprations?"
   ]
  },
  {
   "cell_type": "code",
   "execution_count": 6,
   "id": "7a87ee38",
   "metadata": {},
   "outputs": [
    {
     "name": "stdout",
     "output_type": "stream",
     "text": [
      "select one of below \n",
      "1. Addition\n",
      "2. Sunstraction\n",
      "3. Multiplication\n",
      "4. Division\n",
      "press any other key to exit\n",
      "1\n",
      "enter a first number: 11\n",
      "enter a second number: 22\n",
      "answer is 33\n",
      "select one of below \n",
      "1. Addition\n",
      "2. Sunstraction\n",
      "3. Multiplication\n",
      "4. Division\n",
      "press any other key to exit\n",
      "5\n"
     ]
    }
   ],
   "source": [
    "while True:\n",
    "    print('select one of below ')\n",
    "    print('1. Addition')\n",
    "    print('2. Sunstraction')\n",
    "    print('3. Multiplication')\n",
    "    print('4. Division')\n",
    "    print('press any other key to exit')    \n",
    "    \n",
    "    choice = int(input())\n",
    "    \n",
    "    if choice == 1:\n",
    "        num1 = int(input(\"enter a first number: \"))\n",
    "        num2 = int(input('enter a second number: '))\n",
    "        print(f'answer is {num1 + num2}')\n",
    "    elif choice == 2:\n",
    "        num1 = int(input('enter a first number: '))\n",
    "        num2 = int(input(\"enter a second number: \"))\n",
    "        print(f'answer is {num1 - num2}')\n",
    "    \n",
    "    elif choice == 3:\n",
    "        num1 = int(input('enter a first number: '))\n",
    "        num2 = int(input(\"enter a second number: \"))\n",
    "        print(f'answer is {num1 * num2}')\n",
    "        \n",
    "    elif choice == 4:\n",
    "        num1 = int(input('enter a first number: '))\n",
    "        num2 = int(input(\"enter a second number: \"))\n",
    "        print(f'answer is {num1 / num2}')\n",
    "    \n",
    "    else: \n",
    "        break"
   ]
  },
  {
   "cell_type": "code",
   "execution_count": null,
   "id": "9f6151f2",
   "metadata": {},
   "outputs": [],
   "source": []
  }
 ],
 "metadata": {
  "kernelspec": {
   "display_name": "Python 3 (ipykernel)",
   "language": "python",
   "name": "python3"
  },
  "language_info": {
   "codemirror_mode": {
    "name": "ipython",
    "version": 3
   },
   "file_extension": ".py",
   "mimetype": "text/x-python",
   "name": "python",
   "nbconvert_exporter": "python",
   "pygments_lexer": "ipython3",
   "version": "3.9.13"
  }
 },
 "nbformat": 4,
 "nbformat_minor": 5
}
