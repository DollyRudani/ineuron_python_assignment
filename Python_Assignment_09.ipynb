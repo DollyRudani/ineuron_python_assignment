{
 "cells": [
  {
   "cell_type": "markdown",
   "id": "7665da2d",
   "metadata": {},
   "source": [
    "1. Write a python program to check if given number is disarium number?"
   ]
  },
  {
   "cell_type": "code",
   "execution_count": 36,
   "id": "8ba3791f",
   "metadata": {},
   "outputs": [
    {
     "name": "stdout",
     "output_type": "stream",
     "text": [
      "enter a num: 175\n",
      "number is disarium number \n"
     ]
    }
   ],
   "source": [
    "num = input('enter a num: ')\n",
    "temp = n\n",
    "total = 0\n",
    "\n",
    "for pos,digit in enumerate(temp):\n",
    "    total += int(digit)**(pos+1)\n",
    "    \n",
    "if total == int(num):\n",
    "    print('number is disarium number ')\n",
    "else:\n",
    "    print('number is not disarium number ')"
   ]
  },
  {
   "cell_type": "markdown",
   "id": "1c85e38c",
   "metadata": {},
   "source": [
    "2. Write a python program to print all disarium number between 1 to 100?"
   ]
  },
  {
   "cell_type": "code",
   "execution_count": 40,
   "id": "85ff91b4",
   "metadata": {},
   "outputs": [
    {
     "name": "stdout",
     "output_type": "stream",
     "text": [
      "1\n",
      "2\n",
      "3\n",
      "4\n",
      "5\n",
      "6\n",
      "7\n",
      "8\n",
      "9\n",
      "89\n"
     ]
    }
   ],
   "source": [
    "for i in range(1,100+1):\n",
    "    temp = str(i)\n",
    "    total = 0\n",
    "\n",
    "    for pos,digit in enumerate(temp):\n",
    "        total += int(digit)**(pos+1)\n",
    "        \n",
    "    if total == int(i):\n",
    "        print(i)\n",
    "  "
   ]
  },
  {
   "cell_type": "markdown",
   "id": "3d63d299",
   "metadata": {},
   "source": [
    "3. write a python program to check if the given number is happy number?"
   ]
  },
  {
   "cell_type": "code",
   "execution_count": 24,
   "id": "3abe39e0",
   "metadata": {},
   "outputs": [
    {
     "name": "stdout",
     "output_type": "stream",
     "text": [
      "enter a num: 7\n",
      "number is happy number \n"
     ]
    }
   ],
   "source": [
    "num = input(\"enter a num: \")\n",
    "temp = set()\n",
    "while num not in temp:\n",
    "    temp.add(num)\n",
    "    num = sum([int(i)**2 for i in str(num)])\n",
    "if num == 1:\n",
    "    print('number is happy number ')\n",
    "else:\n",
    "    print('number is not happy number ')\n"
   ]
  },
  {
   "cell_type": "markdown",
   "id": "dcd22db4",
   "metadata": {},
   "source": [
    "4. Write a python program to print all happy numbers berween 1 to 100?"
   ]
  },
  {
   "cell_type": "code",
   "execution_count": 29,
   "id": "4b3f3554",
   "metadata": {},
   "outputs": [
    {
     "name": "stdout",
     "output_type": "stream",
     "text": [
      "1\n",
      "7\n",
      "10\n",
      "13\n",
      "19\n",
      "23\n",
      "28\n",
      "31\n",
      "32\n",
      "44\n",
      "49\n",
      "68\n",
      "70\n",
      "79\n",
      "82\n",
      "86\n",
      "91\n",
      "94\n",
      "97\n",
      "100\n"
     ]
    }
   ],
   "source": [
    "for i in range(1,101):\n",
    "    num = i\n",
    "    temp = set()\n",
    "    while num not in temp:\n",
    "        temp.add(num)\n",
    "        num = sum([int(j)**2 for j in str(num)])\n",
    "    if num == 1:\n",
    "        print(i)"
   ]
  },
  {
   "cell_type": "markdown",
   "id": "11bb4e65",
   "metadata": {},
   "source": [
    "5. Write a python program to determine whether the given number is Harshad number?"
   ]
  },
  {
   "cell_type": "code",
   "execution_count": 59,
   "id": "fc5a98e3",
   "metadata": {},
   "outputs": [
    {
     "name": "stdout",
     "output_type": "stream",
     "text": [
      "enter a num: 111\n",
      "the number is harshad number \n"
     ]
    }
   ],
   "source": [
    "num = input('enter a num: ')\n",
    "total = 0\n",
    "for i in range(len(num)):\n",
    "    total += int(num[i])\n",
    "    i += 1\n",
    "    \n",
    "if int(num) % total == 0:\n",
    "    print('the number is harshad number ')\n",
    "else:\n",
    "    print('the number is not harshad number ')"
   ]
  },
  {
   "cell_type": "markdown",
   "id": "11f93a56",
   "metadata": {},
   "source": [
    "6. Write a python program to print all pronic number between 1 and 100?"
   ]
  },
  {
   "cell_type": "code",
   "execution_count": 61,
   "id": "8968e017",
   "metadata": {},
   "outputs": [
    {
     "name": "stdout",
     "output_type": "stream",
     "text": [
      "0\n",
      "2\n",
      "6\n",
      "12\n",
      "20\n",
      "30\n",
      "42\n",
      "56\n",
      "72\n",
      "90\n"
     ]
    }
   ],
   "source": [
    "for i in range(101):\n",
    "    j = 0\n",
    "    while j<int(i**0.5)+1:\n",
    "        if j*(j+1) == i:\n",
    "            print(i)\n",
    "        j += 1"
   ]
  },
  {
   "cell_type": "code",
   "execution_count": null,
   "id": "fd63feea",
   "metadata": {},
   "outputs": [],
   "source": []
  }
 ],
 "metadata": {
  "kernelspec": {
   "display_name": "Python 3 (ipykernel)",
   "language": "python",
   "name": "python3"
  },
  "language_info": {
   "codemirror_mode": {
    "name": "ipython",
    "version": 3
   },
   "file_extension": ".py",
   "mimetype": "text/x-python",
   "name": "python",
   "nbconvert_exporter": "python",
   "pygments_lexer": "ipython3",
   "version": "3.9.13"
  }
 },
 "nbformat": 4,
 "nbformat_minor": 5
}
