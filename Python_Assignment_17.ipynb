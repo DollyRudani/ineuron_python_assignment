{
 "cells": [
  {
   "cell_type": "markdown",
   "id": "7c8e3f2a",
   "metadata": {},
   "source": [
    "Question: 1"
   ]
  },
  {
   "cell_type": "code",
   "execution_count": 3,
   "id": "d349c56f",
   "metadata": {},
   "outputs": [
    {
     "name": "stdout",
     "output_type": "stream",
     "text": [
      "18\n"
     ]
    }
   ],
   "source": [
    "def even_dev(a,b,c):\n",
    "    t = 0\n",
    "    for i in range(a,b+1):\n",
    "        if i % c == 0:\n",
    "            t += i\n",
    "    return t\n",
    "print(even_dev(1,10,3))\n"
   ]
  },
  {
   "cell_type": "markdown",
   "id": "44a07d61",
   "metadata": {},
   "source": [
    "Question: 2"
   ]
  },
  {
   "cell_type": "code",
   "execution_count": 5,
   "id": "dea29c3e",
   "metadata": {},
   "outputs": [
    {
     "name": "stdout",
     "output_type": "stream",
     "text": [
      "True\n"
     ]
    }
   ],
   "source": [
    "def correct_sign(expression):\n",
    "    expression = expression.split()\n",
    "    for i in range(1, len(expression)-1, 2):\n",
    "        if expression[i] == '<' and not (int(expression[i-1]) < int(expression[i+1])):\n",
    "            return False\n",
    "        if expression[i] == '>' and not (int(expression[i-1]) > int(expression[i+1])):\n",
    "            return False\n",
    "    return True\n",
    "\n",
    "print(correct_sign('1<2<6<9>3'))"
   ]
  },
  {
   "cell_type": "markdown",
   "id": "b234e378",
   "metadata": {},
   "source": [
    "Question: 3"
   ]
  },
  {
   "cell_type": "code",
   "execution_count": 7,
   "id": "87621aef",
   "metadata": {},
   "outputs": [
    {
     "name": "stdout",
     "output_type": "stream",
     "text": [
      "m?nn?? m??s?\n"
     ]
    }
   ],
   "source": [
    "def reverse_vowels(sentence, symbol):\n",
    "    for i in sentence:\n",
    "        if i in \"aeiou\":\n",
    "            sentence = sentence.replace(i,symbol)\n",
    "    return sentence\n",
    "\n",
    "print(reverse_vowels('minnie mouse', '?'))"
   ]
  },
  {
   "cell_type": "markdown",
   "id": "5058d5ee",
   "metadata": {},
   "source": [
    "Question: 4"
   ]
  },
  {
   "cell_type": "code",
   "execution_count": 9,
   "id": "339e8d11",
   "metadata": {},
   "outputs": [
    {
     "name": "stdout",
     "output_type": "stream",
     "text": [
      "120\n"
     ]
    }
   ],
   "source": [
    "def factorial(n):\n",
    "    if n == 1:\n",
    "        return 1\n",
    "    return n*factorial(n-1)\n",
    "print(factorial(5))"
   ]
  },
  {
   "cell_type": "markdown",
   "id": "7d53a8f1",
   "metadata": {},
   "source": [
    "Question: 5"
   ]
  },
  {
   "cell_type": "code",
   "execution_count": 10,
   "id": "35466acd",
   "metadata": {},
   "outputs": [
    {
     "name": "stdout",
     "output_type": "stream",
     "text": [
      "5\n"
     ]
    }
   ],
   "source": [
    "def hamming_distance(s1,s2):\n",
    "    r = [1 if x != y else 0 for x, y in zip(s1, s2)]\n",
    "    return sum(r)\n",
    "\n",
    "print(hamming_distance('abcde','bcdef'))\n",
    "    "
   ]
  },
  {
   "cell_type": "code",
   "execution_count": null,
   "id": "c1271d42",
   "metadata": {},
   "outputs": [],
   "source": []
  }
 ],
 "metadata": {
  "kernelspec": {
   "display_name": "Python 3 (ipykernel)",
   "language": "python",
   "name": "python3"
  },
  "language_info": {
   "codemirror_mode": {
    "name": "ipython",
    "version": 3
   },
   "file_extension": ".py",
   "mimetype": "text/x-python",
   "name": "python",
   "nbconvert_exporter": "python",
   "pygments_lexer": "ipython3",
   "version": "3.9.13"
  }
 },
 "nbformat": 4,
 "nbformat_minor": 5
}
