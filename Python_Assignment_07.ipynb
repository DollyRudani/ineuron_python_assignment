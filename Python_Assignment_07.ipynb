{
 "cells": [
  {
   "cell_type": "markdown",
   "id": "bc9018ac",
   "metadata": {},
   "source": [
    "1. Write a python program to find sum of array?"
   ]
  },
  {
   "cell_type": "code",
   "execution_count": 5,
   "id": "d56ad8c6",
   "metadata": {},
   "outputs": [
    {
     "name": "stdout",
     "output_type": "stream",
     "text": [
      "enter the elements seperated by space: 1 2 3 4\n",
      "10\n"
     ]
    }
   ],
   "source": [
    "l = list(map(int,input(\"enter the elements seperated by space: \").split()))\n",
    "print(sum(l))"
   ]
  },
  {
   "cell_type": "markdown",
   "id": "a2f46999",
   "metadata": {},
   "source": [
    "2. write a python program to find largest element in an array?"
   ]
  },
  {
   "cell_type": "code",
   "execution_count": 6,
   "id": "bbfd275c",
   "metadata": {},
   "outputs": [
    {
     "name": "stdout",
     "output_type": "stream",
     "text": [
      "enter the elements seperated by space: 1 2 3 4 5\n",
      "5\n"
     ]
    }
   ],
   "source": [
    "l = list(map(int,input(\"enter the elements seperated by space: \").split()))\n",
    "print(max(l))"
   ]
  },
  {
   "cell_type": "markdown",
   "id": "4867e9b9",
   "metadata": {},
   "source": [
    "3. write a python program for array rotation?"
   ]
  },
  {
   "cell_type": "code",
   "execution_count": 7,
   "id": "13b0fc51",
   "metadata": {},
   "outputs": [
    {
     "name": "stdout",
     "output_type": "stream",
     "text": [
      "enter the elements seperated bt space: 1 2 3 5 6 8\n",
      "enter a number of rotation: 2\n",
      "[6, 8, 1, 2, 3, 5]\n"
     ]
    }
   ],
   "source": [
    "l = list(map(int,input('enter the elements seperated bt space: ').split()))\n",
    "n = int(input(\"enter a number of rotation: \"))\n",
    "print(l[len(l)-n:] + l[:len(l)-n])"
   ]
  },
  {
   "cell_type": "markdown",
   "id": "9b3a1112",
   "metadata": {},
   "source": [
    "4. Write a python program to split the array and add the first part to the end?"
   ]
  },
  {
   "cell_type": "code",
   "execution_count": 33,
   "id": "a5f31b78",
   "metadata": {},
   "outputs": [
    {
     "name": "stdout",
     "output_type": "stream",
     "text": [
      "enter elements space seperated: 1 2 3 4 5 6\n",
      "[4, 5, 6, 1, 2, 3]\n"
     ]
    }
   ],
   "source": [
    "l = list(map(int,input(\"enter elements space seperated: \").split()))\n",
    "\n",
    "n = len(l)//2\n",
    "\n",
    "print(l[-n:]+l[:-n])"
   ]
  },
  {
   "cell_type": "markdown",
   "id": "8778a32b",
   "metadata": {},
   "source": [
    "5. write a python program to check if given array is monotonic?"
   ]
  },
  {
   "cell_type": "code",
   "execution_count": 36,
   "id": "4560fbd6",
   "metadata": {},
   "outputs": [
    {
     "name": "stdout",
     "output_type": "stream",
     "text": [
      "enter the elements space seperated: 6 5 4 3 2 1\n",
      "array is monotonic\n"
     ]
    }
   ],
   "source": [
    "l = list(map(int,input('enter the elements space seperated: ').split()))\n",
    "l1,l2 = [],[]\n",
    "l1.extend(l)\n",
    "l2.extend(l)\n",
    "l1.sort()\n",
    "l2.sort(reverse = True)\n",
    "\n",
    "if l1 == l or l2 == l:\n",
    "    print('array is monotonic')\n",
    "else:\n",
    "    print('array is not monotonic')\n"
   ]
  },
  {
   "cell_type": "code",
   "execution_count": null,
   "id": "f9b715f6",
   "metadata": {},
   "outputs": [],
   "source": []
  }
 ],
 "metadata": {
  "kernelspec": {
   "display_name": "Python 3 (ipykernel)",
   "language": "python",
   "name": "python3"
  },
  "language_info": {
   "codemirror_mode": {
    "name": "ipython",
    "version": 3
   },
   "file_extension": ".py",
   "mimetype": "text/x-python",
   "name": "python",
   "nbconvert_exporter": "python",
   "pygments_lexer": "ipython3",
   "version": "3.9.13"
  }
 },
 "nbformat": 4,
 "nbformat_minor": 5
}
