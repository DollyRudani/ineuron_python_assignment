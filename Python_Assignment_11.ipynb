{
 "cells": [
  {
   "cell_type": "markdown",
   "id": "5e01c363",
   "metadata": {},
   "source": [
    "1. Write a python program to find words which are greater than given length k?"
   ]
  },
  {
   "cell_type": "code",
   "execution_count": 4,
   "id": "2ef0b131",
   "metadata": {},
   "outputs": [
    {
     "name": "stdout",
     "output_type": "stream",
     "text": [
      "enter the words: dolly rudani shreya\n",
      "enter the value of k: 5\n",
      "rudani\n",
      "shreya\n"
     ]
    }
   ],
   "source": [
    "l = input('enter the words: ').split()\n",
    "k = int(input(\"enter the value of k: \"))\n",
    "for i in l:\n",
    "    if len(i) > k:\n",
    "        print(i)"
   ]
  },
  {
   "cell_type": "markdown",
   "id": "3be2044a",
   "metadata": {},
   "source": [
    "2. Write a python program to remove i-th character from a string?"
   ]
  },
  {
   "cell_type": "code",
   "execution_count": 13,
   "id": "b95241e1",
   "metadata": {},
   "outputs": [
    {
     "name": "stdout",
     "output_type": "stream",
     "text": [
      "enter a string: dolly\n",
      "enter number of character to remove: 2\n",
      "dlly\n"
     ]
    }
   ],
   "source": [
    "l = input('enter a string: ')\n",
    "l = list(l)\n",
    "r = int(input('enter number of character to remove: '))\n",
    "del l[r-1]\n",
    "print(''.join(l))"
   ]
  },
  {
   "cell_type": "markdown",
   "id": "c719d607",
   "metadata": {},
   "source": [
    "3. Write a python program to split and join a string? "
   ]
  },
  {
   "cell_type": "code",
   "execution_count": 16,
   "id": "9ae1c169",
   "metadata": {},
   "outputs": [
    {
     "name": "stdout",
     "output_type": "stream",
     "text": [
      "enter the words: dolly rudani\n",
      "['dolly', 'rudani']\n",
      "dollyrudani\n"
     ]
    }
   ],
   "source": [
    "s = input('enter the words: ').split()\n",
    "print(s)\n",
    "print(''.join(s))"
   ]
  },
  {
   "cell_type": "markdown",
   "id": "f1903b28",
   "metadata": {},
   "source": [
    "4. Write a python program to check if the given string is binary string or not?"
   ]
  },
  {
   "cell_type": "code",
   "execution_count": 21,
   "id": "710c53bf",
   "metadata": {},
   "outputs": [
    {
     "name": "stdout",
     "output_type": "stream",
     "text": [
      "enter the string: kljf\n",
      "string is not binary\n"
     ]
    }
   ],
   "source": [
    "s = input('enter the string: ')\n",
    "for i in s:\n",
    "    if i not in '01':\n",
    "        print('string is not binary')\n",
    "        break\n",
    "    else:\n",
    "        print('string is binary')"
   ]
  },
  {
   "cell_type": "markdown",
   "id": "7bc120ad",
   "metadata": {},
   "source": [
    "5. Write a python program to find uncommon words from two strings?"
   ]
  },
  {
   "cell_type": "code",
   "execution_count": 9,
   "id": "73b6153d",
   "metadata": {},
   "outputs": [
    {
     "name": "stdout",
     "output_type": "stream",
     "text": [
      "enter a string: a b c d\n",
      "enter a string; c d e f\n",
      "abef\n"
     ]
    }
   ],
   "source": [
    "s1 = input('enter a string: ').split()\n",
    "s2 = input('enter a string; ').split()\n",
    "\n",
    "lst = []\n",
    "for i in s1:\n",
    "    if i not in s2:\n",
    "        lst.append(i)\n",
    "for j in s2:\n",
    "    if j not in s1:\n",
    "        lst.append(j)\n",
    "print(''.join(lst))"
   ]
  },
  {
   "cell_type": "markdown",
   "id": "9bc4b897",
   "metadata": {},
   "source": [
    "6. Write a python program to find all duplicate characters in string?"
   ]
  },
  {
   "cell_type": "code",
   "execution_count": 13,
   "id": "5135834e",
   "metadata": {},
   "outputs": [
    {
     "name": "stdout",
     "output_type": "stream",
     "text": [
      "enter a string: iruguiorugncrur\n",
      "r\n",
      "u\n",
      "g\n",
      "i\n"
     ]
    }
   ],
   "source": [
    "l = input('enter a string: ')\n",
    "s = set(l)\n",
    "for i in s:\n",
    "    if l.count(i) > 1:\n",
    "        print(i)"
   ]
  },
  {
   "cell_type": "markdown",
   "id": "8682d80f",
   "metadata": {},
   "source": [
    "7. Write a python program to check if a string contains any special charachter?"
   ]
  },
  {
   "cell_type": "code",
   "execution_count": 20,
   "id": "a9037f32",
   "metadata": {},
   "outputs": [
    {
     "name": "stdout",
     "output_type": "stream",
     "text": [
      "enter a string: ldk;'\n",
      "string has special characters\n"
     ]
    }
   ],
   "source": [
    "s = input('enter a string: ')\n",
    "for i in s:\n",
    "    if i in ''' !@#$%^&*()_+-=~`\\|][{;:/?.,<>}]''':\n",
    "        print('string has special characters')\n",
    "        break\n",
    "else:\n",
    "    print('spring has no special characters')"
   ]
  },
  {
   "cell_type": "code",
   "execution_count": null,
   "id": "29a44a9f",
   "metadata": {},
   "outputs": [],
   "source": []
  }
 ],
 "metadata": {
  "kernelspec": {
   "display_name": "Python 3 (ipykernel)",
   "language": "python",
   "name": "python3"
  },
  "language_info": {
   "codemirror_mode": {
    "name": "ipython",
    "version": 3
   },
   "file_extension": ".py",
   "mimetype": "text/x-python",
   "name": "python",
   "nbconvert_exporter": "python",
   "pygments_lexer": "ipython3",
   "version": "3.9.13"
  }
 },
 "nbformat": 4,
 "nbformat_minor": 5
}
