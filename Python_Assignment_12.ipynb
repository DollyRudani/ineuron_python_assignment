{
 "cells": [
  {
   "cell_type": "markdown",
   "id": "48be4e5c",
   "metadata": {},
   "source": [
    "1. Write a python program to extract unique values dictionary values?"
   ]
  },
  {
   "cell_type": "code",
   "execution_count": 9,
   "id": "13834365",
   "metadata": {},
   "outputs": [
    {
     "name": "stdout",
     "output_type": "stream",
     "text": [
      "{'how', 'hiii', 'hello'}\n"
     ]
    }
   ],
   "source": [
    "d = {1:'hello',2:'hiii',3:'how',4:'hiii'}\n",
    "val = set([i for i in d.values()])\n",
    "print(val)"
   ]
  },
  {
   "cell_type": "markdown",
   "id": "caa1eff3",
   "metadata": {},
   "source": [
    "2. Write a python program to find the sum of all items in a dictionary?"
   ]
  },
  {
   "cell_type": "code",
   "execution_count": 14,
   "id": "3943e982",
   "metadata": {},
   "outputs": [
    {
     "name": "stdout",
     "output_type": "stream",
     "text": [
      "10\n"
     ]
    }
   ],
   "source": [
    "d = {1:'apple',2:'banana',3:'orange',4:'mango'}\n",
    "s = sum([i for i in d.keys()])\n",
    "print(s)"
   ]
  },
  {
   "cell_type": "markdown",
   "id": "ee851109",
   "metadata": {},
   "source": [
    "3. Write a python programs to merging two dictionaries?"
   ]
  },
  {
   "cell_type": "code",
   "execution_count": 15,
   "id": "28e7e9a7",
   "metadata": {},
   "outputs": [
    {
     "name": "stdout",
     "output_type": "stream",
     "text": [
      "{1: 'apple', 2: 'banana', 3: 'orange', 4: 'mango'}\n"
     ]
    }
   ],
   "source": [
    "d1 = {1:'apple',2:'banana'}\n",
    "d2 = {3:'orange',4:'mango'}\n",
    "s = d1 | d2\n",
    "print(s)"
   ]
  },
  {
   "cell_type": "markdown",
   "id": "05f5a94a",
   "metadata": {},
   "source": [
    "4. Write a python program to convert key-values list to flat dictionary?"
   ]
  },
  {
   "cell_type": "code",
   "execution_count": 27,
   "id": "afd14ecf",
   "metadata": {},
   "outputs": [
    {
     "name": "stdout",
     "output_type": "stream",
     "text": [
      "{1: 'one', 2: 'two', 3: 'three'}\n"
     ]
    }
   ],
   "source": [
    "test = {'date':[1,2,3],\n",
    "       'name':['one','two','three']}\n",
    "t = list(test.values())\n",
    "a = t[0]\n",
    "b = t[1]\n",
    "d = dict()\n",
    "for i in range(0,len(a)):\n",
    "    d[a[i]] = b[i]\n",
    "print(d)"
   ]
  },
  {
   "cell_type": "markdown",
   "id": "1bbddefb",
   "metadata": {},
   "source": [
    "5. Write a python program to insertion at the beginning in OrderdDict?"
   ]
  },
  {
   "cell_type": "code",
   "execution_count": 5,
   "id": "354dcf54",
   "metadata": {},
   "outputs": [
    {
     "name": "stdout",
     "output_type": "stream",
     "text": [
      "enter key to be inserted: 3\n",
      "enter value to be inserted: cherry\n",
      "OrderedDict([('3', 'cherry'), ('1', 'apple'), ('2', 'mango')])\n"
     ]
    }
   ],
   "source": [
    "from collections import OrderedDict\n",
    "\n",
    "d1 = OrderedDict({'1': \"apple\", \"2\": \"mango\"})\n",
    "key = input('enter key to be inserted: ')\n",
    "value = input('enter value to be inserted: ')\n",
    "\n",
    "d1.update({key:value})\n",
    "d1.move_to_end(key, last = False)\n",
    "print(str(d1))"
   ]
  },
  {
   "cell_type": "markdown",
   "id": "30678c26",
   "metadata": {},
   "source": [
    "6. Write a python program to check order of character in string using OrderedDict()?"
   ]
  },
  {
   "cell_type": "code",
   "execution_count": 11,
   "id": "405a42c4",
   "metadata": {},
   "outputs": [
    {
     "name": "stdout",
     "output_type": "stream",
     "text": [
      "enter a string: hello all\n",
      "enter pattern:he\n",
      "True\n"
     ]
    }
   ],
   "source": [
    "from collections import OrderedDict\n",
    "\n",
    "s = input('enter a string: ')\n",
    "dict = OrderedDict.fromkeys(s)\n",
    "p = input('enter pattern:')\n",
    "\n",
    "pl = 0\n",
    "for key in dict.keys():\n",
    "    if key in p:\n",
    "        if key!=p[pl]:\n",
    "            print(False)\n",
    "            break\n",
    "        pl += 1\n",
    "else:\n",
    "    print(True)"
   ]
  },
  {
   "cell_type": "markdown",
   "id": "ee8418f9",
   "metadata": {},
   "source": [
    "7. Write a python program to sort python Dictionaries by key or values?"
   ]
  },
  {
   "cell_type": "code",
   "execution_count": 19,
   "id": "ff6ae972",
   "metadata": {},
   "outputs": [
    {
     "name": "stdout",
     "output_type": "stream",
     "text": [
      "{1: 'orange', 2: 'watermelon', 3: 'apple', 4: 'banana', 5: 'mango'}\n"
     ]
    }
   ],
   "source": [
    "d = {3:'apple',4:'banana',1:'orange',5:'mango',2:'watermelon'}\n",
    "d2 = {}\n",
    "\n",
    "k = [i for i in d.keys()]\n",
    "k.sort()\n",
    "\n",
    "for key in k:\n",
    "    d2[key] = d[key]\n",
    "print(d2)"
   ]
  },
  {
   "cell_type": "code",
   "execution_count": null,
   "id": "370b924d",
   "metadata": {},
   "outputs": [],
   "source": []
  }
 ],
 "metadata": {
  "kernelspec": {
   "display_name": "Python 3 (ipykernel)",
   "language": "python",
   "name": "python3"
  },
  "language_info": {
   "codemirror_mode": {
    "name": "ipython",
    "version": 3
   },
   "file_extension": ".py",
   "mimetype": "text/x-python",
   "name": "python",
   "nbconvert_exporter": "python",
   "pygments_lexer": "ipython3",
   "version": "3.9.13"
  }
 },
 "nbformat": 4,
 "nbformat_minor": 5
}
