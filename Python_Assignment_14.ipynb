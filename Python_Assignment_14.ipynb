{
 "cells": [
  {
   "cell_type": "markdown",
   "id": "18b2303c",
   "metadata": {},
   "source": [
    "Question: 1"
   ]
  },
  {
   "cell_type": "code",
   "execution_count": 35,
   "id": "a5af8083",
   "metadata": {},
   "outputs": [
    {
     "name": "stdout",
     "output_type": "stream",
     "text": [
      "enter a value of n: 56\n",
      "0\n",
      "7\n",
      "14\n",
      "21\n",
      "28\n",
      "35\n",
      "42\n",
      "49\n",
      "56\n"
     ]
    }
   ],
   "source": [
    "def is_devisible(n):\n",
    "    for i in range(0,n+1):\n",
    "        if i%7 == 0:\n",
    "            print(i)\n",
    "n = int(input(\"enter a value of n: \"))\n",
    "(is_devisible(n))"
   ]
  },
  {
   "cell_type": "markdown",
   "id": "e320a173",
   "metadata": {},
   "source": [
    "Question:2"
   ]
  },
  {
   "cell_type": "code",
   "execution_count": 9,
   "id": "2086f320",
   "metadata": {},
   "outputs": [
    {
     "name": "stdout",
     "output_type": "stream",
     "text": [
      "enter words: New to Python or choosing between Python 2 and Python 3? Read Python 2 or Python 3\n",
      "2:2\n",
      "3:1\n",
      "3?:1\n",
      "New:1\n",
      "Python:5\n",
      "Read:1\n",
      "and:1\n",
      "between:1\n",
      "choosing:1\n",
      "or:2\n",
      "to:1\n"
     ]
    }
   ],
   "source": [
    "n = input('enter words: ').split()\n",
    "word = sorted(set(n))\n",
    "for i in word:\n",
    "    print(f\"{i}:{n.count(i)}\")"
   ]
  },
  {
   "cell_type": "markdown",
   "id": "af922d44",
   "metadata": {},
   "source": [
    "Question 3"
   ]
  },
  {
   "cell_type": "code",
   "execution_count": 10,
   "id": "7704bcc1",
   "metadata": {},
   "outputs": [
    {
     "name": "stdout",
     "output_type": "stream",
     "text": [
      "Female\n",
      "Male\n"
     ]
    }
   ],
   "source": [
    "class Person:\n",
    "    def __init__(self):\n",
    "        self.gender = 'unknown'\n",
    "        \n",
    "    def getGender(self):\n",
    "        print(self.gender)\n",
    "    \n",
    "class Male(Person):\n",
    "    def __init__(self):\n",
    "        self.gender = \"Male\"\n",
    "\n",
    "\n",
    "class Female(Person):\n",
    "    def __init__(self):\n",
    "        self.gender = 'Female'\n",
    "        \n",
    "girl = Female()\n",
    "boy = Male()\n",
    "\n",
    "girl.getGender()\n",
    "boy.getGender()"
   ]
  },
  {
   "cell_type": "markdown",
   "id": "094cc81a",
   "metadata": {},
   "source": [
    "Question:4"
   ]
  },
  {
   "cell_type": "code",
   "execution_count": 11,
   "id": "c7f30884",
   "metadata": {},
   "outputs": [
    {
     "name": "stdout",
     "output_type": "stream",
     "text": [
      "I Play Hockey\n",
      "I Play Football\n",
      "I Love Hockey\n",
      "I Love Football\n",
      "You Play Hockey\n",
      "You Play Football\n",
      "You Love Hockey\n",
      "You Love Football\n"
     ]
    }
   ],
   "source": [
    "subjects = ['I','You']\n",
    "verbs = ['Play','Love']\n",
    "objects = ['Hockey','Football']\n",
    "\n",
    "for sub in subjects:\n",
    "    for verb in verbs:\n",
    "        for obj in objects:\n",
    "            print(f'{sub} {verb} {obj}')\n",
    "    "
   ]
  },
  {
   "cell_type": "markdown",
   "id": "4f4e359b",
   "metadata": {},
   "source": [
    "Question: 5"
   ]
  },
  {
   "cell_type": "code",
   "execution_count": 17,
   "id": "28be5a6a",
   "metadata": {},
   "outputs": [
    {
     "name": "stdout",
     "output_type": "stream",
     "text": [
      "b'x\\x9c\\xcbH\\xcd\\xc9\\xc9W(\\xcf/\\xcaIQ\\xcc \\x82\\r\\x00\\xbd[\\x11\\xf5'\n",
      "b'hello world!hello world!hello world!hello world!'\n"
     ]
    }
   ],
   "source": [
    "s = \"hello world!hello world!hello world!hello world!\"\n",
    "y = bytes(s,'utf-8')\n",
    "x = zlib.compress(y)\n",
    "print(x)\n",
    "print(zlib.decompress(x))"
   ]
  },
  {
   "cell_type": "markdown",
   "id": "5a155073",
   "metadata": {},
   "source": [
    "Question: 6"
   ]
  },
  {
   "cell_type": "code",
   "execution_count": 22,
   "id": "6d7824c8",
   "metadata": {},
   "outputs": [
    {
     "name": "stdout",
     "output_type": "stream",
     "text": [
      "1\n"
     ]
    }
   ],
   "source": [
    "def binary_search(lst,item):\n",
    "    low = 0\n",
    "    high = len(lst) - 1\n",
    "    \n",
    "    while low <= high:\n",
    "        mid = round((low + high) / 2)\n",
    "        \n",
    "        if lst[mid] == item:\n",
    "            return mid\n",
    "        elif lst[mid] > item:\n",
    "            high = mid - 1\n",
    "        else:\n",
    "            low = mid + 1\n",
    "    return None\n",
    "lst = [1,3,5,7]\n",
    "print(binary_search(lst,3))\n"
   ]
  },
  {
   "cell_type": "code",
   "execution_count": null,
   "id": "0afda40b",
   "metadata": {},
   "outputs": [],
   "source": []
  }
 ],
 "metadata": {
  "kernelspec": {
   "display_name": "Python 3 (ipykernel)",
   "language": "python",
   "name": "python3"
  },
  "language_info": {
   "codemirror_mode": {
    "name": "ipython",
    "version": 3
   },
   "file_extension": ".py",
   "mimetype": "text/x-python",
   "name": "python",
   "nbconvert_exporter": "python",
   "pygments_lexer": "ipython3",
   "version": "3.9.13"
  }
 },
 "nbformat": 4,
 "nbformat_minor": 5
}
