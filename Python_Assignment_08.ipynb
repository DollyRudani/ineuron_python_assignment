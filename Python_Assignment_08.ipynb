{
 "cells": [
  {
   "cell_type": "raw",
   "id": "b1fc871e",
   "metadata": {},
   "source": [
    "1. Write a python program to add two matrices?"
   ]
  },
  {
   "cell_type": "code",
   "execution_count": 1,
   "id": "6a0467b6",
   "metadata": {},
   "outputs": [
    {
     "name": "stdout",
     "output_type": "stream",
     "text": [
      "enter num of row: 2\n",
      "enter num of columns: 2\n",
      "enter first matrix \n",
      "2\n",
      "3\n",
      "4\n",
      "5\n",
      "enter second matrix\n",
      "7\n",
      "8\n",
      "9\n",
      "10\n",
      "[[9, 11], [13, 15]]\n"
     ]
    }
   ],
   "source": [
    "r = int(input('enter num of row: '))\n",
    "c = int(input(\"enter num of columns: \"))\n",
    "\n",
    "print(\"enter first matrix \")\n",
    "matrix1 = [[int(input()) for j in range(c)] for i in range(r)]\n",
    "\n",
    "print('enter second matrix')\n",
    "matrix2 = [[int(input()) for j in range(c)] for i in range(r)]\n",
    "\n",
    "r = [[matrix1[i][j] + matrix2[i][j] for j in range(c)] for i in range(r)]\n",
    "print(r)"
   ]
  },
  {
   "cell_type": "markdown",
   "id": "d575213d",
   "metadata": {},
   "source": [
    "2. Write a python program to multiply two matrices?"
   ]
  },
  {
   "cell_type": "code",
   "execution_count": 1,
   "id": "1024d475",
   "metadata": {},
   "outputs": [
    {
     "name": "stdout",
     "output_type": "stream",
     "text": [
      "num of raw for matrix1: 2\n",
      "num of colums for matrix1: 2\n",
      "enter first matrix: \n",
      "2\n",
      "3\n",
      "4\n",
      "5\n",
      "enter num of colums for matrix2: 2\n",
      "enter second matrix: \n",
      "8\n",
      "9\n",
      "7\n",
      "6\n",
      "[[37, 36], [67, 66]]\n"
     ]
    }
   ],
   "source": [
    "r = int(input(\"num of raw for matrix1: \"))\n",
    "c = int(input('num of colums for matrix1: '))\n",
    "\n",
    "print('enter first matrix: ')\n",
    "matrix1 = [[int(input())for j in range(c)] for i in range(r)]\n",
    "\n",
    "r = c\n",
    "c = int(input(\"enter num of colums for matrix2: \"))\n",
    "\n",
    "print(\"enter second matrix: \")\n",
    "matrix2 = [[int(input()) for j in range(c)]for i in range(r)]\n",
    "\n",
    "r = [[0 for j in range(len(matrix2[0]))]for i in range(len(matrix2))]\n",
    "\n",
    "for i in range(len(matrix1)):\n",
    "    for j in range(len(matrix2[0])):\n",
    "        for k in range(len(matrix2)):\n",
    "            r[i][j] += matrix1[i][k] * matrix2[k][j]\n",
    "            \n",
    "print(r)\n"
   ]
  },
  {
   "cell_type": "markdown",
   "id": "c996def4",
   "metadata": {},
   "source": [
    "3. Write a python program to Transpose a matrix?"
   ]
  },
  {
   "cell_type": "code",
   "execution_count": 2,
   "id": "bfeb464d",
   "metadata": {},
   "outputs": [
    {
     "name": "stdout",
     "output_type": "stream",
     "text": [
      "num of raw for matrix1: 2\n",
      "num of colums for matrix1: 2\n",
      "enter first matrix: \n",
      "3\n",
      "5\n",
      "6\n",
      "4\n",
      "[[3, 6], [5, 4]]\n"
     ]
    }
   ],
   "source": [
    "r = int(input(\"num of raw for matrix1: \"))\n",
    "c = int(input('num of colums for matrix1: '))\n",
    "\n",
    "print('enter first matrix: ')\n",
    "matrix1 = [[int(input())for j in range(c)]for i in range(r)]\n",
    "\n",
    "r = [[matrix1[j][i] for j in range(len(matrix1))]for i in range(len(matrix1[0]))]\n",
    "\n",
    "print(r)"
   ]
  },
  {
   "cell_type": "markdown",
   "id": "d82582db",
   "metadata": {},
   "source": [
    "4. Write a python program to sort words in alphabetic order?"
   ]
  },
  {
   "cell_type": "code",
   "execution_count": 5,
   "id": "c1ed68d6",
   "metadata": {},
   "outputs": [
    {
     "name": "stdout",
     "output_type": "stream",
     "text": [
      "enter words seperated by space: hello i am good\n",
      "am good hello i\n"
     ]
    }
   ],
   "source": [
    "w = input('enter words seperated by space: ').split()\n",
    "w.sort()\n",
    "r = ' '.join(w)\n",
    "print(r)"
   ]
  },
  {
   "cell_type": "markdown",
   "id": "ce67d5cd",
   "metadata": {},
   "source": [
    "5. Write a python program to remove punctuation from string?"
   ]
  },
  {
   "cell_type": "code",
   "execution_count": 7,
   "id": "8908c996",
   "metadata": {},
   "outputs": [
    {
     "name": "stdout",
     "output_type": "stream",
     "text": [
      "enter a string: h'kljdfdl\"jkddf'\n",
      "hkljdfdljkddf\n"
     ]
    }
   ],
   "source": [
    "w = input('enter a string: ')\n",
    "p = '''~`!@#$%^&*()_+-=[]{}\\|:;.>,</?'\"'''\n",
    "e = ''\n",
    "for i in w:\n",
    "    if i not in p:\n",
    "        e += i\n",
    "print(e)"
   ]
  },
  {
   "cell_type": "code",
   "execution_count": null,
   "id": "c29c8516",
   "metadata": {},
   "outputs": [],
   "source": []
  }
 ],
 "metadata": {
  "kernelspec": {
   "display_name": "Python 3 (ipykernel)",
   "language": "python",
   "name": "python3"
  },
  "language_info": {
   "codemirror_mode": {
    "name": "ipython",
    "version": 3
   },
   "file_extension": ".py",
   "mimetype": "text/x-python",
   "name": "python",
   "nbconvert_exporter": "python",
   "pygments_lexer": "ipython3",
   "version": "3.9.13"
  }
 },
 "nbformat": 4,
 "nbformat_minor": 5
}
