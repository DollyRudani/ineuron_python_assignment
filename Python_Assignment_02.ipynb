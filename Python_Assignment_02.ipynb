{
 "cells": [
  {
   "cell_type": "markdown",
   "id": "11fa3ea5",
   "metadata": {},
   "source": [
    "1. Write a Python program to convert kilometers to miles?"
   ]
  },
  {
   "cell_type": "code",
   "execution_count": 1,
   "id": "7eb68121",
   "metadata": {},
   "outputs": [
    {
     "name": "stdout",
     "output_type": "stream",
     "text": [
      "enter kilometers: 5\n",
      "3.10685595\n"
     ]
    }
   ],
   "source": [
    "km = int(input(\"enter kilometers: \"))\n",
    "miles = km*0.62137119\n",
    "print(miles)"
   ]
  },
  {
   "cell_type": "markdown",
   "id": "17e00482",
   "metadata": {},
   "source": [
    "2. Write a Python program to convert Celsius to Fahrenheit?"
   ]
  },
  {
   "cell_type": "code",
   "execution_count": 2,
   "id": "af95fd84",
   "metadata": {},
   "outputs": [
    {
     "name": "stdout",
     "output_type": "stream",
     "text": [
      "enter temperature in celsius: 2\n",
      "35.6\n"
     ]
    }
   ],
   "source": [
    "cel = int(input('enter temperature in celsius: '))\n",
    "f = (((9/5)*cel)+32)\n",
    "print(f)"
   ]
  },
  {
   "cell_type": "markdown",
   "id": "ca1ec7e3",
   "metadata": {},
   "source": [
    "3. Write a python program to display calender?"
   ]
  },
  {
   "cell_type": "code",
   "execution_count": 3,
   "id": "fcdc0f3b",
   "metadata": {},
   "outputs": [
    {
     "name": "stdout",
     "output_type": "stream",
     "text": [
      "enter year: 2000\n",
      "enter month: 12\n",
      "   December 2000\n",
      "Mo Tu We Th Fr Sa Su\n",
      "             1  2  3\n",
      " 4  5  6  7  8  9 10\n",
      "11 12 13 14 15 16 17\n",
      "18 19 20 21 22 23 24\n",
      "25 26 27 28 29 30 31\n",
      "\n"
     ]
    }
   ],
   "source": [
    "import calendar\n",
    "year = int(input('enter year: '))\n",
    "month = int(input(\"enter month: \"))\n",
    "print(calendar.month(year,month))"
   ]
  },
  {
   "cell_type": "markdown",
   "id": "eebf4f21",
   "metadata": {},
   "source": [
    "4. Write a python program to solve quadratic equation?"
   ]
  },
  {
   "cell_type": "code",
   "execution_count": 3,
   "id": "83a03771",
   "metadata": {},
   "outputs": [
    {
     "name": "stdout",
     "output_type": "stream",
     "text": [
      "enter value of a: 10\n",
      "enter value of b: 20\n",
      "enter value of c: 30\n",
      "(-1+1.4142135623730951j) (-1-1.4142135623730951j)\n"
     ]
    }
   ],
   "source": [
    "a = int(input('enter value of a: '))\n",
    "b = int(input('enter value of b: '))\n",
    "c = int(input('enter value of c: '))\n",
    "\n",
    "t = (b**2 - 4*a*c)**0.5\n",
    "x1 = (-b + t)/(2*a)\n",
    "x2 = (-b-t)/(2*a)\n",
    "print(x1,x2)"
   ]
  },
  {
   "cell_type": "markdown",
   "id": "c7d089a5",
   "metadata": {},
   "source": [
    "5. Write a python program to swap two variables without temp variable?"
   ]
  },
  {
   "cell_type": "code",
   "execution_count": 4,
   "id": "ba1be7c6",
   "metadata": {},
   "outputs": [
    {
     "name": "stdout",
     "output_type": "stream",
     "text": [
      "enter a: 2\n",
      "enter b: 3\n",
      "3\n",
      "2\n"
     ]
    }
   ],
   "source": [
    "a = int(input(\"enter a: \"))\n",
    "b = int(input(\"enter b: \"))\n",
    "a,b = b,a\n",
    "print(a)\n",
    "print(b)"
   ]
  },
  {
   "cell_type": "code",
   "execution_count": null,
   "id": "10510048",
   "metadata": {},
   "outputs": [],
   "source": []
  }
 ],
 "metadata": {
  "kernelspec": {
   "display_name": "Python 3 (ipykernel)",
   "language": "python",
   "name": "python3"
  },
  "language_info": {
   "codemirror_mode": {
    "name": "ipython",
    "version": 3
   },
   "file_extension": ".py",
   "mimetype": "text/x-python",
   "name": "python",
   "nbconvert_exporter": "python",
   "pygments_lexer": "ipython3",
   "version": "3.9.13"
  }
 },
 "nbformat": 4,
 "nbformat_minor": 5
}
