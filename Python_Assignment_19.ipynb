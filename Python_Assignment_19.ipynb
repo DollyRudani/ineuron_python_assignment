{
 "cells": [
  {
   "cell_type": "markdown",
   "id": "e1b51a8b",
   "metadata": {},
   "source": [
    "Question: 1"
   ]
  },
  {
   "cell_type": "code",
   "execution_count": 2,
   "id": "7defcf4c",
   "metadata": {},
   "outputs": [
    {
     "name": "stdout",
     "output_type": "stream",
     "text": [
      "ssttrriinngg\n"
     ]
    }
   ],
   "source": [
    "def double_char(string1):\n",
    "    result = ''\n",
    "    for i in string1:\n",
    "        result += i*2\n",
    "        \n",
    "    return result\n",
    "print(double_char(\"string\"))"
   ]
  },
  {
   "cell_type": "markdown",
   "id": "8feeb403",
   "metadata": {},
   "source": [
    "Question: 2"
   ]
  },
  {
   "cell_type": "code",
   "execution_count": 19,
   "id": "a2dc2660",
   "metadata": {},
   "outputs": [
    {
     "name": "stdout",
     "output_type": "stream",
     "text": [
      "False\n"
     ]
    }
   ],
   "source": [
    "def reverse(val):\n",
    "    if val:\n",
    "        return not val\n",
    "    elif not val:\n",
    "        return val\n",
    "    else:\n",
    "        return 'boolean expected'\n",
    "    \n",
    "print(reverse(2))\n",
    "    "
   ]
  },
  {
   "cell_type": "markdown",
   "id": "f4d57a46",
   "metadata": {},
   "source": [
    "Question: 3"
   ]
  },
  {
   "cell_type": "code",
   "execution_count": 1,
   "id": "ddc8b0c6",
   "metadata": {},
   "outputs": [
    {
     "name": "stdout",
     "output_type": "stream",
     "text": [
      "1048.576m\n"
     ]
    }
   ],
   "source": [
    "def num_layers(n):\n",
    "    return str(0.5*2**n/1000)+'m'\n",
    "print(num_layers(21))"
   ]
  },
  {
   "cell_type": "markdown",
   "id": "c54fc0c3",
   "metadata": {},
   "source": [
    "Question: 4"
   ]
  },
  {
   "cell_type": "code",
   "execution_count": 22,
   "id": "d922cbe8",
   "metadata": {},
   "outputs": [
    {
     "name": "stdout",
     "output_type": "stream",
     "text": [
      "[1, 3, 4, 6]\n"
     ]
    }
   ],
   "source": [
    "def index_of_caps(l):\n",
    "    t = []\n",
    "    for i in l:\n",
    "        if i.isupper():\n",
    "            t.append(l.index(i))\n",
    "    return t\n",
    "print(index_of_caps(\"eQuINoX\"))"
   ]
  },
  {
   "cell_type": "code",
   "execution_count": 28,
   "id": "e9ba3b5f",
   "metadata": {},
   "outputs": [
    {
     "name": "stdout",
     "output_type": "stream",
     "text": [
      "[2, 4, 6, 8]\n"
     ]
    }
   ],
   "source": [
    "def find_even_num(n):\n",
    "    return [i for i in range(2,n+1) if i%2 == 0]\n",
    "print(find_even_num(8))"
   ]
  },
  {
   "cell_type": "code",
   "execution_count": null,
   "id": "9d8451ac",
   "metadata": {},
   "outputs": [],
   "source": []
  }
 ],
 "metadata": {
  "kernelspec": {
   "display_name": "Python 3 (ipykernel)",
   "language": "python",
   "name": "python3"
  },
  "language_info": {
   "codemirror_mode": {
    "name": "ipython",
    "version": 3
   },
   "file_extension": ".py",
   "mimetype": "text/x-python",
   "name": "python",
   "nbconvert_exporter": "python",
   "pygments_lexer": "ipython3",
   "version": "3.9.13"
  }
 },
 "nbformat": 4,
 "nbformat_minor": 5
}
