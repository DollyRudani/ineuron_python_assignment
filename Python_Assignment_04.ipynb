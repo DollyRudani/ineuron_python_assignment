{
  "nbformat": 4,
  "nbformat_minor": 0,
  "metadata": {
    "colab": {
      "provenance": []
    },
    "kernelspec": {
      "name": "python3",
      "display_name": "Python 3"
    },
    "language_info": {
      "name": "python"
    },
    "accelerator": "GPU",
    "gpuClass": "standard"
  },
  "cells": [
    {
      "cell_type": "markdown",
      "source": [
        "1. Write a python program to find the factorial of a number?"
      ],
      "metadata": {
        "id": "5tNf66EdnSUR"
      }
    },
    {
      "cell_type": "code",
      "execution_count": null,
      "metadata": {
        "id": "nfsqLSIJm1Pe",
        "colab": {
          "base_uri": "https://localhost:8080/"
        },
        "outputId": "72077294-83f1-4d19-86ca-fa0bdc3972f6"
      },
      "outputs": [
        {
          "output_type": "stream",
          "name": "stdout",
          "text": [
            "enter a num 10\n",
            "3628800\n"
          ]
        }
      ],
      "source": [
        "n = int(input('enter a num '))\n",
        "f = 1\n",
        "for i in range(n,0,-1):\n",
        "  f *= i\n",
        "\n",
        "print(f)\n"
      ]
    },
    {
      "cell_type": "markdown",
      "source": [
        "2. Write a python program to display a multiplication table?"
      ],
      "metadata": {
        "id": "mkDEqf8NpYcA"
      }
    },
    {
      "cell_type": "code",
      "source": [
        "n = int(input('enter a num: '))\n",
        "for i in range(1,11):\n",
        "  print(f'{n} * {i} = {n*i}')\n",
        "  "
      ],
      "metadata": {
        "colab": {
          "base_uri": "https://localhost:8080/"
        },
        "id": "D4ekCk5foIGG",
        "outputId": "0e42451a-6554-4112-8971-59899ee70961"
      },
      "execution_count": null,
      "outputs": [
        {
          "output_type": "stream",
          "name": "stdout",
          "text": [
            "enter a num: 2\n",
            "2 * 1 = 2\n",
            "2 * 2 = 4\n",
            "2 * 3 = 6\n",
            "2 * 4 = 8\n",
            "2 * 5 = 10\n",
            "2 * 6 = 12\n",
            "2 * 7 = 14\n",
            "2 * 8 = 16\n",
            "2 * 9 = 18\n",
            "2 * 10 = 20\n"
          ]
        }
      ]
    },
    {
      "cell_type": "markdown",
      "source": [
        "3. Write a python program to print fibonacci sequence?"
      ],
      "metadata": {
        "id": "HvVs4BPaqst-"
      }
    },
    {
      "cell_type": "code",
      "source": [
        "n = int(input('enter a num: '))\n",
        "\n",
        "a = 0\n",
        "b = 1\n",
        "if n == 1:\n",
        "  print(a)\n",
        "elif n == 2:\n",
        "  print(a, b)\n",
        "else:\n",
        "  print(a,b, end = ' ')\n",
        "  for i in range(n-2):\n",
        "    c = a + b\n",
        "    a = b\n",
        "    b = c\n",
        "    print(b, end = ' ')\n"
      ],
      "metadata": {
        "colab": {
          "base_uri": "https://localhost:8080/"
        },
        "id": "7FajZ2PAp5Mb",
        "outputId": "d57fba69-859e-4301-87b4-b4e45d8b987a"
      },
      "execution_count": null,
      "outputs": [
        {
          "output_type": "stream",
          "name": "stdout",
          "text": [
            "enter a num: 10\n",
            "0 1 1 2 3 5 8 13 21 34 "
          ]
        }
      ]
    },
    {
      "cell_type": "markdown",
      "source": [
        "4. Write a python program to check Armstrong Number?"
      ],
      "metadata": {
        "id": "Uh8tqZ_e5qVF"
      }
    },
    {
      "cell_type": "code",
      "source": [
        "n = input(\"enter a num: \")\n",
        "\n",
        "temp = int(n)\n",
        "sum = 0\n",
        "l = len(n)\n",
        "\n",
        "for i in range(temp):\n",
        "  if temp > 0:\n",
        "    d = temp % 10\n",
        "    sum += d ** l\n",
        "    temp //= 10\n",
        "\n",
        "if int(n) == sum:\n",
        "  print(f'{n} is armstrong number ')\n",
        "else:\n",
        "  print(f'{n} is not armstrong number ')\n",
        "\n"
      ],
      "metadata": {
        "id": "iCePLRNXsc6w",
        "colab": {
          "base_uri": "https://localhost:8080/"
        },
        "outputId": "69ee2b58-a157-4dba-ba10-b1c5d48b7b5a"
      },
      "execution_count": 3,
      "outputs": [
        {
          "output_type": "stream",
          "name": "stdout",
          "text": [
            "enter a num: 1234\n",
            "1234 is not armstrong number \n"
          ]
        }
      ]
    },
    {
      "cell_type": "markdown",
      "source": [
        "5. Write a python program to find Armstrong Number in an interval?"
      ],
      "metadata": {
        "id": "U41eVJRhoyhY"
      }
    },
    {
      "cell_type": "code",
      "source": [
        "n1, n2 = 1,1000\n",
        "\n",
        "for i in range(n1,n2):\n",
        "    l = len(str(i))\n",
        "    sum = 0\n",
        "    temp = i\n",
        "    while temp > 0:\n",
        "        d = temp % 10\n",
        "        sum += d ** l\n",
        "        temp //= 10\n",
        "\n",
        "    if i == sum:\n",
        "        print(i)"
      ],
      "metadata": {
        "id": "kkx6mMA77vpn",
        "colab": {
          "base_uri": "https://localhost:8080/"
        },
        "outputId": "354e6daa-b5c1-4b31-afe9-6e4797034ac8"
      },
      "execution_count": 4,
      "outputs": [
        {
          "output_type": "stream",
          "name": "stdout",
          "text": [
            "1\n",
            "2\n",
            "3\n",
            "4\n",
            "5\n",
            "6\n",
            "7\n",
            "8\n",
            "9\n",
            "153\n",
            "370\n",
            "371\n",
            "407\n"
          ]
        }
      ]
    },
    {
      "cell_type": "markdown",
      "source": [
        "6. Write a python program to find the sum of natural numbers?"
      ],
      "metadata": {
        "id": "YDogeqSFpfq4"
      }
    },
    {
      "cell_type": "code",
      "source": [
        "n = int(input('enter a natural numbers: '))\n",
        "\n",
        "if n < 0:\n",
        "  print('enter natural numbers')\n",
        "else:\n",
        "  s = 0\n",
        "  for i in range(n+1):\n",
        "    s += i\n",
        "print(s)\n",
        "    \n"
      ],
      "metadata": {
        "colab": {
          "base_uri": "https://localhost:8080/"
        },
        "id": "ezNC3pywpyxd",
        "outputId": "f9e38599-6696-4591-b9e3-db4dcaebc7e2"
      },
      "execution_count": 7,
      "outputs": [
        {
          "output_type": "stream",
          "name": "stdout",
          "text": [
            "enter a natural numbers: 5\n",
            "15\n"
          ]
        }
      ]
    }
  ]
}