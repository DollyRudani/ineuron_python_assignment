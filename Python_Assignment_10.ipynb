{
 "cells": [
  {
   "cell_type": "markdown",
   "id": "d1d0b301",
   "metadata": {},
   "source": [
    "1. Write a python program to find sum of eliments in list?"
   ]
  },
  {
   "cell_type": "code",
   "execution_count": 7,
   "id": "f0a9955e",
   "metadata": {},
   "outputs": [
    {
     "name": "stdout",
     "output_type": "stream",
     "text": [
      "enter elements seperated by space 1 2 3 4 5\n",
      "15\n"
     ]
    }
   ],
   "source": [
    "l = list(map(int,input('enter elements seperated by space ').split()))\n",
    "print(sum(l))"
   ]
  },
  {
   "cell_type": "markdown",
   "id": "2f36c595",
   "metadata": {},
   "source": [
    "2. Write a python program to multiply all numbers in list?"
   ]
  },
  {
   "cell_type": "code",
   "execution_count": 11,
   "id": "6e6c5cea",
   "metadata": {},
   "outputs": [
    {
     "name": "stdout",
     "output_type": "stream",
     "text": [
      "enter elements seperated by space 1 2 3 4 5\n",
      "120\n"
     ]
    }
   ],
   "source": [
    "l = list(map(int,input('enter elements seperated by space ').split()))\n",
    "total = 1\n",
    "for i in l:\n",
    "    total *= i\n",
    "    i += 1\n",
    "print(total)\n",
    " \n",
    "    "
   ]
  },
  {
   "cell_type": "markdown",
   "id": "8a06b5e0",
   "metadata": {},
   "source": [
    "3. write a python program to find smallest number in a list?"
   ]
  },
  {
   "cell_type": "code",
   "execution_count": 13,
   "id": "c4eb817c",
   "metadata": {},
   "outputs": [
    {
     "name": "stdout",
     "output_type": "stream",
     "text": [
      "enter elements seperated by space: 5 8 6 2 7 \n",
      "2\n"
     ]
    }
   ],
   "source": [
    "l = list(map(int,input('enter elements seperated by space: ').split()))\n",
    "print(min(l))"
   ]
  },
  {
   "cell_type": "markdown",
   "id": "70f13adf",
   "metadata": {},
   "source": [
    "4. write a python program to find largest number in a list?"
   ]
  },
  {
   "cell_type": "code",
   "execution_count": 15,
   "id": "df8b315c",
   "metadata": {},
   "outputs": [
    {
     "name": "stdout",
     "output_type": "stream",
     "text": [
      "enter elements seperated by space: 8 5 6 2 11\n",
      "11\n"
     ]
    }
   ],
   "source": [
    "l = list(map(int,input(\"enter elements seperated by space: \").split()))\n",
    "print(max(l))"
   ]
  },
  {
   "cell_type": "markdown",
   "id": "4a35d691",
   "metadata": {},
   "source": [
    "5. write a python program to find second largest number in a list?"
   ]
  },
  {
   "cell_type": "code",
   "execution_count": 28,
   "id": "59d95a9a",
   "metadata": {},
   "outputs": [
    {
     "name": "stdout",
     "output_type": "stream",
     "text": [
      "enter elements seperated by space: 6 9 2 58 7 3 22 \n",
      "22\n"
     ]
    }
   ],
   "source": [
    "l = list(map(int,input(\"enter elements seperated by space: \").split()))\n",
    "l.sort()\n",
    "l.pop()\n",
    "print(max(l))"
   ]
  },
  {
   "cell_type": "markdown",
   "id": "345331b3",
   "metadata": {},
   "source": [
    "6. Write a python program to find N largest elements from a list?"
   ]
  },
  {
   "cell_type": "code",
   "execution_count": 1,
   "id": "1857edec",
   "metadata": {},
   "outputs": [
    {
     "name": "stdout",
     "output_type": "stream",
     "text": [
      "enter elements seperated by space: 2 5 89 36 7 465 2\n",
      "enter a value of N: 2\n",
      "[465, 89]\n"
     ]
    }
   ],
   "source": [
    "l = list(map(int,input(\"enter elements seperated by space: \").split()))\n",
    "n = int(input('enter a value of N: '))\n",
    "l.sort(reverse = True)\n",
    "print(l[:n])"
   ]
  },
  {
   "cell_type": "markdown",
   "id": "22d68736",
   "metadata": {},
   "source": [
    "7. Write a python program to print even numbers in a list?"
   ]
  },
  {
   "cell_type": "code",
   "execution_count": 2,
   "id": "7794c846",
   "metadata": {},
   "outputs": [
    {
     "name": "stdout",
     "output_type": "stream",
     "text": [
      "enter elements seperated by space: 5 4 8 3 9 2 0 10\n",
      "4\n",
      "8\n",
      "2\n",
      "0\n",
      "10\n"
     ]
    }
   ],
   "source": [
    "n = list(map(int,input('enter elements seperated by space: ').split()))\n",
    "for i in n:\n",
    "    if i%2 == 0:\n",
    "        print(i)"
   ]
  },
  {
   "cell_type": "markdown",
   "id": "f8f266bd",
   "metadata": {},
   "source": [
    "8. Write a python program to print odd numbers in a list?"
   ]
  },
  {
   "cell_type": "code",
   "execution_count": 3,
   "id": "7b6babb1",
   "metadata": {},
   "outputs": [
    {
     "name": "stdout",
     "output_type": "stream",
     "text": [
      "enter elements seperated by space: 5 8 6 3 4 12\n",
      "5\n",
      "3\n"
     ]
    }
   ],
   "source": [
    "n = list(map(int,input(\"enter elements seperated by space: \").split()))\n",
    "for i in n:\n",
    "    if i%2 != 0:\n",
    "        print(i)"
   ]
  },
  {
   "cell_type": "markdown",
   "id": "eff089d6",
   "metadata": {},
   "source": [
    "9. Write a python program to Remove empty list from list?"
   ]
  },
  {
   "cell_type": "code",
   "execution_count": 16,
   "id": "9eed6fe4",
   "metadata": {},
   "outputs": [
    {
     "name": "stdout",
     "output_type": "stream",
     "text": [
      "[[1, 2, 3], [9], [4], [5], [6, 7, 8], [10]]\n"
     ]
    }
   ],
   "source": [
    "l = [[1,2,3],[9],[4],[5],[],[],[6,7,8],[],[10],[]]\n",
    "while [] in l:\n",
    "    l.remove([])\n",
    "print(l)"
   ]
  },
  {
   "cell_type": "markdown",
   "id": "1f93f764",
   "metadata": {},
   "source": [
    "10. Write a python program to cloning or copying a list?"
   ]
  },
  {
   "cell_type": "code",
   "execution_count": 21,
   "id": "5132eed5",
   "metadata": {},
   "outputs": [
    {
     "name": "stdout",
     "output_type": "stream",
     "text": [
      "enter the elements seperated by a space: 4 87 512\n",
      "[4, 87, 512]\n"
     ]
    }
   ],
   "source": [
    "l = list(map(int,input('enter the elements seperated by a space: ').split()))\n",
    "l1 = l.copy()\n",
    "print(l1)"
   ]
  },
  {
   "cell_type": "markdown",
   "id": "6d116ce2",
   "metadata": {},
   "source": [
    "11. Write a python program to count occurrences of an element in a list?"
   ]
  },
  {
   "cell_type": "code",
   "execution_count": 23,
   "id": "24f54f3f",
   "metadata": {},
   "outputs": [
    {
     "name": "stdout",
     "output_type": "stream",
     "text": [
      "enter the elements seperated by a space: 85 4 75 2 85 75 85 2 4 5 6 85\n",
      "enter an element to be counted: 85\n",
      "4\n"
     ]
    }
   ],
   "source": [
    "l = list(map(int,input('enter the elements seperated by a space: ').split()))\n",
    "n = int(input('enter an element to be counted: '))\n",
    "print(l.count(n))"
   ]
  },
  {
   "cell_type": "code",
   "execution_count": null,
   "id": "9cd0ccc6",
   "metadata": {},
   "outputs": [],
   "source": []
  }
 ],
 "metadata": {
  "kernelspec": {
   "display_name": "Python 3 (ipykernel)",
   "language": "python",
   "name": "python3"
  },
  "language_info": {
   "codemirror_mode": {
    "name": "ipython",
    "version": 3
   },
   "file_extension": ".py",
   "mimetype": "text/x-python",
   "name": "python",
   "nbconvert_exporter": "python",
   "pygments_lexer": "ipython3",
   "version": "3.9.13"
  }
 },
 "nbformat": 4,
 "nbformat_minor": 5
}
