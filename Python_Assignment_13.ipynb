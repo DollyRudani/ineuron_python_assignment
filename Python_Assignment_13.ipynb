{
 "cells": [
  {
   "cell_type": "markdown",
   "id": "2abdc46c",
   "metadata": {},
   "source": [
    "Question:01"
   ]
  },
  {
   "cell_type": "code",
   "execution_count": 5,
   "id": "5b3b7723",
   "metadata": {
    "scrolled": true
   },
   "outputs": [
    {
     "name": "stdout",
     "output_type": "stream",
     "text": [
      "enter comma seperated values: 100,150,180\n",
      "18,22,24\n"
     ]
    }
   ],
   "source": [
    "d = list(map(int,input(\"enter comma seperated values: \").split(',')))\n",
    "c = 50\n",
    "h = 30\n",
    "result = []\n",
    "for i in d:\n",
    "    q = int((2*c*i/h)**0.5)\n",
    "    result.append(str(q))\n",
    "print(','.join(result))"
   ]
  },
  {
   "cell_type": "markdown",
   "id": "171549ce",
   "metadata": {},
   "source": [
    "Question: 2"
   ]
  },
  {
   "cell_type": "code",
   "execution_count": 8,
   "id": "358a6058",
   "metadata": {},
   "outputs": [
    {
     "name": "stdout",
     "output_type": "stream",
     "text": [
      "enter x: 3\n",
      "enter y: 5\n",
      "[[0, 0, 0, 0, 0], [0, 1, 2, 3, 4], [0, 2, 4, 6, 8]]\n"
     ]
    }
   ],
   "source": [
    "x = int(input('enter x: '))\n",
    "y = int(input('enter y: '))\n",
    "\n",
    "m = [[i*j for j in range(y)]for i in range(x)]\n",
    "print(m)"
   ]
  },
  {
   "cell_type": "markdown",
   "id": "45cb08da",
   "metadata": {},
   "source": [
    "Question: 3"
   ]
  },
  {
   "cell_type": "code",
   "execution_count": 3,
   "id": "e20182b0",
   "metadata": {},
   "outputs": [
    {
     "name": "stdout",
     "output_type": "stream",
     "text": [
      "enter words comma seperated: without,hello,bag,world\n",
      "bag,hello,without,world\n"
     ]
    }
   ],
   "source": [
    "s = input(\"enter words comma seperated: \").split(\",\")\n",
    "s.sort()\n",
    "print(','.join(s))"
   ]
  },
  {
   "cell_type": "markdown",
   "id": "17e3887f",
   "metadata": {},
   "source": [
    "Question: 4"
   ]
  },
  {
   "cell_type": "code",
   "execution_count": 7,
   "id": "04f8f005",
   "metadata": {},
   "outputs": [
    {
     "name": "stdout",
     "output_type": "stream",
     "text": [
      "enter worlds comma seperated: hello world and practice makes perfect and hello world again\n",
      "again and hello makes perfect practice world\n"
     ]
    }
   ],
   "source": [
    "s = input(\"enter worlds comma seperated: \").split()\n",
    "s = list(set(s))\n",
    "s.sort()\n",
    "print(' '.join(s))\n"
   ]
  },
  {
   "cell_type": "markdown",
   "id": "59c98325",
   "metadata": {},
   "source": [
    "Question:5"
   ]
  },
  {
   "cell_type": "code",
   "execution_count": 12,
   "id": "549ca8f0",
   "metadata": {},
   "outputs": [
    {
     "name": "stdout",
     "output_type": "stream",
     "text": [
      "enter sentence: Hello world! 123\n",
      "LETTERS:  10\n",
      "DIGITS:  3\n"
     ]
    }
   ],
   "source": [
    "s = input('enter sentence: ')\n",
    "Letters = 0\n",
    "digits = 0\n",
    "\n",
    "for i in s:\n",
    "    if i.isdigit():\n",
    "        digits += 1\n",
    "    if i.isalpha():\n",
    "        Letters += 1\n",
    "    \n",
    "print(\"LETTERS: \", Letters)\n",
    "print(\"DIGITS: \", digits )"
   ]
  },
  {
   "cell_type": "markdown",
   "id": "468e4728",
   "metadata": {},
   "source": [
    "Question: 6"
   ]
  },
  {
   "cell_type": "code",
   "execution_count": 1,
   "id": "9d48bc26",
   "metadata": {},
   "outputs": [
    {
     "name": "stdout",
     "output_type": "stream",
     "text": [
      "enter comma seperated passwords: ABd1234@1,a F1#,2w3E*,2We3345\n",
      "ABd1234@1\n"
     ]
    }
   ],
   "source": [
    "def is_pass(password):\n",
    "    lower = False\n",
    "    upper = False\n",
    "    digit = False\n",
    "    special = False\n",
    "    if len(password) < 6 or len(password) >12:\n",
    "        return False\n",
    "    else:\n",
    "        for i in password:\n",
    "            if i.isdigit():\n",
    "                digit = True\n",
    "            if 65 <= ord(i) <= 90:\n",
    "                lower = True\n",
    "            if 97 <= ord(i) <=122:\n",
    "                uper = True\n",
    "            if i in \"$#@\":\n",
    "                special = True\n",
    "        return all([digit, lower, uper, special])\n",
    "    \n",
    "    \n",
    "passwords = input('enter comma seperated passwords: ').split(\",\")\n",
    "r = []\n",
    "for p in passwords:\n",
    "    if is_pass(p):\n",
    "        r.append(p)\n",
    "        \n",
    "print(','.join(r))"
   ]
  },
  {
   "cell_type": "code",
   "execution_count": null,
   "id": "86e9c4dd",
   "metadata": {},
   "outputs": [],
   "source": []
  }
 ],
 "metadata": {
  "kernelspec": {
   "display_name": "Python 3 (ipykernel)",
   "language": "python",
   "name": "python3"
  },
  "language_info": {
   "codemirror_mode": {
    "name": "ipython",
    "version": 3
   },
   "file_extension": ".py",
   "mimetype": "text/x-python",
   "name": "python",
   "nbconvert_exporter": "python",
   "pygments_lexer": "ipython3",
   "version": "3.9.13"
  }
 },
 "nbformat": 4,
 "nbformat_minor": 5
}
