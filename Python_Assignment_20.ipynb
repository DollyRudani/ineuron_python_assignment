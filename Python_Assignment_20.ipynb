{
 "cells": [
  {
   "cell_type": "markdown",
   "id": "74b3b9de",
   "metadata": {},
   "source": [
    "Question: 1"
   ]
  },
  {
   "cell_type": "code",
   "execution_count": 2,
   "id": "819e7ae7",
   "metadata": {},
   "outputs": [
    {
     "name": "stdout",
     "output_type": "stream",
     "text": [
      "[1, 2]\n"
     ]
    }
   ],
   "source": [
    "def filter_fun(l):\n",
    "    t = []\n",
    "    for i in l:\n",
    "        if str(i).isdigit():\n",
    "            t.append(i)\n",
    "    return t\n",
    "print(filter_fun([1,2,'a','b']))"
   ]
  },
  {
   "cell_type": "markdown",
   "id": "233a206c",
   "metadata": {},
   "source": [
    "Question: 2"
   ]
  },
  {
   "cell_type": "code",
   "execution_count": 3,
   "id": "23b53c4d",
   "metadata": {},
   "outputs": [
    {
     "name": "stdout",
     "output_type": "stream",
     "text": [
      "[1, 3, 5, 7, 9]\n"
     ]
    }
   ],
   "source": [
    "def add_index(l):\n",
    "    for index,value in enumerate(l):\n",
    "        l[index] = index+value\n",
    "    return l\n",
    "print(add_index([1,2,3,4,5]))"
   ]
  },
  {
   "cell_type": "markdown",
   "id": "ef0f929f",
   "metadata": {},
   "source": [
    "Question:3"
   ]
  },
  {
   "cell_type": "code",
   "execution_count": 4,
   "id": "acf3e119",
   "metadata": {},
   "outputs": [
    {
     "name": "stdout",
     "output_type": "stream",
     "text": [
      "565.49\n"
     ]
    }
   ],
   "source": [
    "import math\n",
    "def cone_volume(h,r):\n",
    "    return round(math.pi*(r**2)*h/3,2)\n",
    "print(cone_volume(15,6))"
   ]
  },
  {
   "cell_type": "markdown",
   "id": "642876e1",
   "metadata": {},
   "source": [
    "Question: 4"
   ]
  },
  {
   "cell_type": "code",
   "execution_count": 3,
   "id": "0d6428f0",
   "metadata": {},
   "outputs": [
    {
     "name": "stdout",
     "output_type": "stream",
     "text": [
      "21\n"
     ]
    }
   ],
   "source": [
    "def triangle(n):\n",
    "    num = 0\n",
    "    for i in range(1,n+1):\n",
    "        num += i\n",
    "    return num\n",
    "\n",
    "print(triangle(6))"
   ]
  },
  {
   "cell_type": "markdown",
   "id": "150d4457",
   "metadata": {},
   "source": [
    "Question: 5"
   ]
  },
  {
   "cell_type": "code",
   "execution_count": 2,
   "id": "533f134c",
   "metadata": {},
   "outputs": [
    {
     "name": "stdout",
     "output_type": "stream",
     "text": [
      "5\n"
     ]
    }
   ],
   "source": [
    "def missing_num(l):\n",
    "    for i in range(1,11):\n",
    "        if i not in l:\n",
    "            return i\n",
    "        \n",
    "print(missing_num([1,2,3,4,6,7,8,9,10]))\n",
    "            "
   ]
  },
  {
   "cell_type": "code",
   "execution_count": null,
   "id": "f894a929",
   "metadata": {},
   "outputs": [],
   "source": []
  }
 ],
 "metadata": {
  "kernelspec": {
   "display_name": "Python 3 (ipykernel)",
   "language": "python",
   "name": "python3"
  },
  "language_info": {
   "codemirror_mode": {
    "name": "ipython",
    "version": 3
   },
   "file_extension": ".py",
   "mimetype": "text/x-python",
   "name": "python",
   "nbconvert_exporter": "python",
   "pygments_lexer": "ipython3",
   "version": "3.9.13"
  }
 },
 "nbformat": 4,
 "nbformat_minor": 5
}
