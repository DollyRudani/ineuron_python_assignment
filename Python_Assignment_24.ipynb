{
 "cells": [
  {
   "cell_type": "markdown",
   "id": "99b55960",
   "metadata": {},
   "source": [
    "Question: 1"
   ]
  },
  {
   "cell_type": "code",
   "execution_count": 3,
   "id": "0b8b82f7",
   "metadata": {},
   "outputs": [
    {
     "name": "stdout",
     "output_type": "stream",
     "text": [
      "[1, 2, 3, 40, 5, 6, 7, 80, 9, 10, 11, 120, 13, 14, 15, 160, 17, 18, 19, 200, 21, 22, 23, 240, 25]\n"
     ]
    }
   ],
   "source": [
    "def amplify(n):\n",
    "    return [i*10 if i%4 == 0 else i for i in range(1,n+1)]\n",
    "print(amplify(25))"
   ]
  },
  {
   "cell_type": "markdown",
   "id": "7affbed2",
   "metadata": {},
   "source": [
    "Question: 2"
   ]
  },
  {
   "cell_type": "code",
   "execution_count": 4,
   "id": "98d6f90f",
   "metadata": {},
   "outputs": [
    {
     "name": "stdout",
     "output_type": "stream",
     "text": [
      "7\n"
     ]
    }
   ],
   "source": [
    "def unique(n):\n",
    "    for i in n:\n",
    "        if n.count(i) == 1:\n",
    "            return i\n",
    "print(unique([3,3,3,7,3,3]))"
   ]
  },
  {
   "cell_type": "markdown",
   "id": "c7b8a93c",
   "metadata": {},
   "source": [
    "Question: 3"
   ]
  },
  {
   "cell_type": "code",
   "execution_count": 1,
   "id": "3110bfa0",
   "metadata": {},
   "outputs": [
    {
     "name": "stdout",
     "output_type": "stream",
     "text": [
      "380.132711084365\n",
      "27.897342763877365\n"
     ]
    }
   ],
   "source": [
    "import math\n",
    "\n",
    "class Circle:\n",
    "    def __init__(self,r):\n",
    "        self.r = r\n",
    "    \n",
    "    def getArea(self):\n",
    "        return math.pi*(self.r**2)\n",
    "    \n",
    "    def getParameter(self):\n",
    "        return 2*math.pi*self.r\n",
    "    \n",
    "c1 = Circle(11)\n",
    "print(c1.getArea())\n",
    "\n",
    "c2 = Circle(4.44)\n",
    "print(c2.getParameter())"
   ]
  },
  {
   "cell_type": "markdown",
   "id": "4fa45baf",
   "metadata": {},
   "source": [
    "Question: 4"
   ]
  },
  {
   "cell_type": "code",
   "execution_count": 6,
   "id": "3417510b",
   "metadata": {},
   "outputs": [
    {
     "name": "stdout",
     "output_type": "stream",
     "text": [
      "['Apple', 'Google', 'Microsoft']\n"
     ]
    }
   ],
   "source": [
    "def sort_by_length(l):\n",
    "    dict = {}\n",
    "    for i in l:\n",
    "        dict[len(i)] = i\n",
    "    l1 = [i for i in dict]\n",
    "    l1.sort()\n",
    "    return [dict[i] for i in l1]\n",
    "print(sort_by_length([\"Apple\", \"Google\", \"Microsoft\"]))"
   ]
  },
  {
   "cell_type": "markdown",
   "id": "7974dde2",
   "metadata": {},
   "source": [
    "Question: 5"
   ]
  },
  {
   "cell_type": "code",
   "execution_count": 7,
   "id": "1bbe15bd",
   "metadata": {},
   "outputs": [
    {
     "name": "stdout",
     "output_type": "stream",
     "text": [
      "True\n"
     ]
    }
   ],
   "source": [
    "def is_triplet(a,b,c):\n",
    "    if (a>b and a>c) and (a**2==b**2+c**2):\n",
    "        return True\n",
    "    elif(b>a and b>c) and (b**2==c**2+a**2):\n",
    "        return True\n",
    "    elif (c>a and c>b) and (c**2 == a**2+b**2):\n",
    "        return True\n",
    "    else:\n",
    "        return False\n",
    "    \n",
    "print(is_triplet(3,4,5))\n",
    "        "
   ]
  },
  {
   "cell_type": "code",
   "execution_count": null,
   "id": "497365ab",
   "metadata": {},
   "outputs": [],
   "source": []
  }
 ],
 "metadata": {
  "kernelspec": {
   "display_name": "Python 3 (ipykernel)",
   "language": "python",
   "name": "python3"
  },
  "language_info": {
   "codemirror_mode": {
    "name": "ipython",
    "version": 3
   },
   "file_extension": ".py",
   "mimetype": "text/x-python",
   "name": "python",
   "nbconvert_exporter": "python",
   "pygments_lexer": "ipython3",
   "version": "3.9.13"
  }
 },
 "nbformat": 4,
 "nbformat_minor": 5
}
