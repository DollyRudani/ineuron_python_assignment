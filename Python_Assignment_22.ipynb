{
 "cells": [
  {
   "cell_type": "markdown",
   "id": "77afa091",
   "metadata": {},
   "source": [
    "Question: 1"
   ]
  },
  {
   "cell_type": "code",
   "execution_count": 2,
   "id": "1be6adfc",
   "metadata": {},
   "outputs": [
    {
     "name": "stdout",
     "output_type": "stream",
     "text": [
      "[3, 6, 9]\n"
     ]
    }
   ],
   "source": [
    "def list_operation(x,y,n):\n",
    "    l = []\n",
    "    for i in range(x,y+1):\n",
    "        if i % n == 0:\n",
    "            l.append(i)\n",
    "    return l\n",
    "print(list_operation(1,10,3))"
   ]
  },
  {
   "cell_type": "markdown",
   "id": "9dfdad19",
   "metadata": {},
   "source": [
    "Question: 2"
   ]
  },
  {
   "cell_type": "code",
   "execution_count": 6,
   "id": "34714f15",
   "metadata": {},
   "outputs": [
    {
     "name": "stdout",
     "output_type": "stream",
     "text": [
      "True\n"
     ]
    }
   ],
   "source": [
    "def simon_says(l1,l2):\n",
    "    return l1[:len(l1)-1]==l2[1:]\n",
    "print(simon_says([1,2,3,4,5],[0,1,2,3,4]))"
   ]
  },
  {
   "cell_type": "markdown",
   "id": "a56776fe",
   "metadata": {},
   "source": [
    "Question: 3"
   ]
  },
  {
   "cell_type": "code",
   "execution_count": 8,
   "id": "0c12ebfc",
   "metadata": {},
   "outputs": [
    {
     "name": "stdout",
     "output_type": "stream",
     "text": [
      "AMS\n"
     ]
    }
   ],
   "source": [
    "def society_name(lst):\n",
    "    r = []\n",
    "    for i in lst:\n",
    "        r.append(i[0])\n",
    "    r.sort()\n",
    "    return ''.join(r)\n",
    "print(society_name(['Adam','Sarah','Malcolm']))"
   ]
  },
  {
   "cell_type": "markdown",
   "id": "3ce289a9",
   "metadata": {},
   "source": [
    "Question: 4"
   ]
  },
  {
   "cell_type": "code",
   "execution_count": 11,
   "id": "78a6977d",
   "metadata": {},
   "outputs": [
    {
     "name": "stdout",
     "output_type": "stream",
     "text": [
      "True\n"
     ]
    }
   ],
   "source": [
    "def is_isogram(word):\n",
    "    word = word.lower()\n",
    "    for i in word:\n",
    "        if word.count(i) > 1:\n",
    "            return False\n",
    "    else:\n",
    "        return True\n",
    "        \n",
    "print(is_isogram('Algorism'))"
   ]
  },
  {
   "cell_type": "markdown",
   "id": "c6613d50",
   "metadata": {},
   "source": [
    "Question: 5"
   ]
  },
  {
   "cell_type": "code",
   "execution_count": 13,
   "id": "40c5e948",
   "metadata": {},
   "outputs": [
    {
     "name": "stdout",
     "output_type": "stream",
     "text": [
      "True\n"
     ]
    }
   ],
   "source": [
    "def is_in_order(word):\n",
    "    a = list(word)\n",
    "    a.sort()\n",
    "    word1 = ''.join(a)\n",
    "    return word == word1\n",
    "print(is_in_order('xyzz'))"
   ]
  },
  {
   "cell_type": "code",
   "execution_count": null,
   "id": "e138e38b",
   "metadata": {},
   "outputs": [],
   "source": []
  }
 ],
 "metadata": {
  "kernelspec": {
   "display_name": "Python 3 (ipykernel)",
   "language": "python",
   "name": "python3"
  },
  "language_info": {
   "codemirror_mode": {
    "name": "ipython",
    "version": 3
   },
   "file_extension": ".py",
   "mimetype": "text/x-python",
   "name": "python",
   "nbconvert_exporter": "python",
   "pygments_lexer": "ipython3",
   "version": "3.9.13"
  }
 },
 "nbformat": 4,
 "nbformat_minor": 5
}
